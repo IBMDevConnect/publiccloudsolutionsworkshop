{
 "cells": [
  {
   "cell_type": "markdown",
   "metadata": {},
   "source": [
    "## Understanding Problem Statement\n",
    "Understanding why and when employees are most likely to leave can lead to actions to improve employee retention as well as possibly planning new hiring in advance. I will be usign a step-by-step systematic approach using a method that could be used for a variety of ML problems.\n",
    "What is the likelihood of an active employee leaving the company?\n",
    "What are the key indicators of an employee leaving the company?\n",
    "What policies or strategies can be adopted based on the results to improve employee retention?\n",
    "Given that we have data on former employees, this is a standard supervised classification problem where the label is a binary variable, 0 (active employee), 1 (former employee). In this study, our target variable Y is the probability of an employee leaving the company. "
   ]
  },
  {
   "cell_type": "markdown",
   "metadata": {},
   "source": [
    "## Importing Libraries"
   ]
  },
  {
   "cell_type": "code",
   "execution_count": 1,
   "metadata": {},
   "outputs": [],
   "source": [
    "# importing libraries for data handling and analysis\n",
    "import pandas as pd\n",
    "from pandas.plotting import scatter_matrix\n",
    "from pandas import ExcelWriter\n",
    "from pandas import ExcelFile\n",
    "from openpyxl import load_workbook\n",
    "import numpy as np\n",
    "from scipy.stats import norm, skew\n",
    "from scipy import stats\n",
    "import statsmodels.api as sm"
   ]
  },
  {
   "cell_type": "code",
   "execution_count": 2,
   "metadata": {},
   "outputs": [],
   "source": [
    "# importing libraries for data visualisations\n",
    "import seaborn as sns\n",
    "from matplotlib import pyplot\n",
    "import matplotlib.pyplot as plt\n",
    "import matplotlib.pylab as pylab\n",
    "import matplotlib\n",
    "%matplotlib inline\n",
    "color = sns.color_palette()"
   ]
  },
  {
   "cell_type": "code",
   "execution_count": 3,
   "metadata": {},
   "outputs": [],
   "source": [
    "# sklearn modules for preprocessing\n",
    "from sklearn.preprocessing import OneHotEncoder, LabelEncoder\n",
    "# sklearn modules for ML model selection\n",
    "from sklearn.model_selection import train_test_split  # import 'train_test_split'\n",
    "from sklearn.model_selection import GridSearchCV\n",
    "from sklearn.model_selection import RandomizedSearchCV\n",
    "from sklearn.model_selection import ShuffleSplit\n",
    "from sklearn.model_selection import KFold\n",
    "from sklearn.model_selection import cross_val_score\n",
    "\n",
    "# Libraries for data modelling\n",
    "from sklearn import svm, tree, linear_model, neighbors\n",
    "from sklearn import naive_bayes, ensemble, discriminant_analysis, gaussian_process\n",
    "from sklearn.linear_model import LogisticRegression\n",
    "from sklearn.tree import DecisionTreeClassifier\n",
    "from sklearn.neighbors import KNeighborsClassifier\n",
    "from sklearn.discriminant_analysis import LinearDiscriminantAnalysis\n",
    "from sklearn.naive_bayes import GaussianNB\n",
    "from sklearn.svm import SVC\n",
    "from sklearn.neighbors import KNeighborsClassifier\n",
    "from xgboost import XGBClassifier\n",
    "from sklearn.ensemble import RandomForestClassifier\n",
    "# Common sklearn Model Helpers\n",
    "from sklearn import feature_selection\n",
    "from sklearn import model_selection\n",
    "from sklearn import metrics\n",
    "# from sklearn.datasets import make_classification\n",
    "# sklearn modules for performance metrics\n",
    "from sklearn.metrics import confusion_matrix, classification_report, precision_recall_curve\n",
    "from sklearn.metrics import auc, roc_auc_score, roc_curve, recall_score, log_loss\n",
    "from sklearn.metrics import f1_score, accuracy_score, roc_auc_score, make_scorer\n",
    "from sklearn.metrics import average_precision_score"
   ]
  },
  {
   "cell_type": "code",
   "execution_count": 4,
   "metadata": {},
   "outputs": [],
   "source": [
    "# importing misceallenous libraries\n",
    "import os\n",
    "import re\n",
    "import sys\n",
    "import timeit\n",
    "import string\n",
    "from datetime import datetime\n",
    "from time import time\n",
    "from dateutil.parser import parse\n",
    "# ip = get_ipython()\n",
    "# ip.register_magics(jupyternotify.JupyterNotifyMagics)"
   ]
  },
  {
   "cell_type": "code",
   "execution_count": 5,
   "metadata": {},
   "outputs": [
    {
     "data": {
      "text/html": [
       "<div>\n",
       "<style scoped>\n",
       "    .dataframe tbody tr th:only-of-type {\n",
       "        vertical-align: middle;\n",
       "    }\n",
       "\n",
       "    .dataframe tbody tr th {\n",
       "        vertical-align: top;\n",
       "    }\n",
       "\n",
       "    .dataframe thead th {\n",
       "        text-align: right;\n",
       "    }\n",
       "</style>\n",
       "<table border=\"1\" class=\"dataframe\">\n",
       "  <thead>\n",
       "    <tr style=\"text-align: right;\">\n",
       "      <th></th>\n",
       "      <th>Age</th>\n",
       "      <th>Attrition</th>\n",
       "      <th>BusinessTravel</th>\n",
       "      <th>DailyRate</th>\n",
       "      <th>Department</th>\n",
       "      <th>DistanceFromHome</th>\n",
       "      <th>Education</th>\n",
       "      <th>EducationField</th>\n",
       "      <th>EmployeeCount</th>\n",
       "      <th>EmployeeNumber</th>\n",
       "      <th>...</th>\n",
       "      <th>RelationshipSatisfaction</th>\n",
       "      <th>StandardHours</th>\n",
       "      <th>StockOptionLevel</th>\n",
       "      <th>TotalWorkingYears</th>\n",
       "      <th>TrainingTimesLastYear</th>\n",
       "      <th>WorkLifeBalance</th>\n",
       "      <th>YearsAtCompany</th>\n",
       "      <th>YearsInCurrentRole</th>\n",
       "      <th>YearsSinceLastPromotion</th>\n",
       "      <th>YearsWithCurrManager</th>\n",
       "    </tr>\n",
       "  </thead>\n",
       "  <tbody>\n",
       "    <tr>\n",
       "      <th>0</th>\n",
       "      <td>41</td>\n",
       "      <td>Yes</td>\n",
       "      <td>Travel_Rarely</td>\n",
       "      <td>1102</td>\n",
       "      <td>Sales</td>\n",
       "      <td>1</td>\n",
       "      <td>2</td>\n",
       "      <td>Life Sciences</td>\n",
       "      <td>1</td>\n",
       "      <td>1</td>\n",
       "      <td>...</td>\n",
       "      <td>1</td>\n",
       "      <td>80</td>\n",
       "      <td>0</td>\n",
       "      <td>8</td>\n",
       "      <td>0</td>\n",
       "      <td>1</td>\n",
       "      <td>6</td>\n",
       "      <td>4</td>\n",
       "      <td>0</td>\n",
       "      <td>5</td>\n",
       "    </tr>\n",
       "    <tr>\n",
       "      <th>1</th>\n",
       "      <td>49</td>\n",
       "      <td>No</td>\n",
       "      <td>Travel_Frequently</td>\n",
       "      <td>279</td>\n",
       "      <td>Research &amp; Development</td>\n",
       "      <td>8</td>\n",
       "      <td>1</td>\n",
       "      <td>Life Sciences</td>\n",
       "      <td>1</td>\n",
       "      <td>2</td>\n",
       "      <td>...</td>\n",
       "      <td>4</td>\n",
       "      <td>80</td>\n",
       "      <td>1</td>\n",
       "      <td>10</td>\n",
       "      <td>3</td>\n",
       "      <td>3</td>\n",
       "      <td>10</td>\n",
       "      <td>7</td>\n",
       "      <td>1</td>\n",
       "      <td>7</td>\n",
       "    </tr>\n",
       "    <tr>\n",
       "      <th>2</th>\n",
       "      <td>37</td>\n",
       "      <td>Yes</td>\n",
       "      <td>Travel_Rarely</td>\n",
       "      <td>1373</td>\n",
       "      <td>Research &amp; Development</td>\n",
       "      <td>2</td>\n",
       "      <td>2</td>\n",
       "      <td>Other</td>\n",
       "      <td>1</td>\n",
       "      <td>4</td>\n",
       "      <td>...</td>\n",
       "      <td>2</td>\n",
       "      <td>80</td>\n",
       "      <td>0</td>\n",
       "      <td>7</td>\n",
       "      <td>3</td>\n",
       "      <td>3</td>\n",
       "      <td>0</td>\n",
       "      <td>0</td>\n",
       "      <td>0</td>\n",
       "      <td>0</td>\n",
       "    </tr>\n",
       "    <tr>\n",
       "      <th>3</th>\n",
       "      <td>33</td>\n",
       "      <td>No</td>\n",
       "      <td>Travel_Frequently</td>\n",
       "      <td>1392</td>\n",
       "      <td>Research &amp; Development</td>\n",
       "      <td>3</td>\n",
       "      <td>4</td>\n",
       "      <td>Life Sciences</td>\n",
       "      <td>1</td>\n",
       "      <td>5</td>\n",
       "      <td>...</td>\n",
       "      <td>3</td>\n",
       "      <td>80</td>\n",
       "      <td>0</td>\n",
       "      <td>8</td>\n",
       "      <td>3</td>\n",
       "      <td>3</td>\n",
       "      <td>8</td>\n",
       "      <td>7</td>\n",
       "      <td>3</td>\n",
       "      <td>0</td>\n",
       "    </tr>\n",
       "    <tr>\n",
       "      <th>4</th>\n",
       "      <td>27</td>\n",
       "      <td>No</td>\n",
       "      <td>Travel_Rarely</td>\n",
       "      <td>591</td>\n",
       "      <td>Research &amp; Development</td>\n",
       "      <td>2</td>\n",
       "      <td>1</td>\n",
       "      <td>Medical</td>\n",
       "      <td>1</td>\n",
       "      <td>7</td>\n",
       "      <td>...</td>\n",
       "      <td>4</td>\n",
       "      <td>80</td>\n",
       "      <td>1</td>\n",
       "      <td>6</td>\n",
       "      <td>3</td>\n",
       "      <td>3</td>\n",
       "      <td>2</td>\n",
       "      <td>2</td>\n",
       "      <td>2</td>\n",
       "      <td>2</td>\n",
       "    </tr>\n",
       "  </tbody>\n",
       "</table>\n",
       "<p>5 rows × 35 columns</p>\n",
       "</div>"
      ],
      "text/plain": [
       "   Age Attrition     BusinessTravel  DailyRate              Department  \\\n",
       "0   41       Yes      Travel_Rarely       1102                   Sales   \n",
       "1   49        No  Travel_Frequently        279  Research & Development   \n",
       "2   37       Yes      Travel_Rarely       1373  Research & Development   \n",
       "3   33        No  Travel_Frequently       1392  Research & Development   \n",
       "4   27        No      Travel_Rarely        591  Research & Development   \n",
       "\n",
       "   DistanceFromHome  Education EducationField  EmployeeCount  EmployeeNumber  \\\n",
       "0                 1          2  Life Sciences              1               1   \n",
       "1                 8          1  Life Sciences              1               2   \n",
       "2                 2          2          Other              1               4   \n",
       "3                 3          4  Life Sciences              1               5   \n",
       "4                 2          1        Medical              1               7   \n",
       "\n",
       "   ...  RelationshipSatisfaction StandardHours  StockOptionLevel  \\\n",
       "0  ...                         1            80                 0   \n",
       "1  ...                         4            80                 1   \n",
       "2  ...                         2            80                 0   \n",
       "3  ...                         3            80                 0   \n",
       "4  ...                         4            80                 1   \n",
       "\n",
       "   TotalWorkingYears  TrainingTimesLastYear WorkLifeBalance  YearsAtCompany  \\\n",
       "0                  8                      0               1               6   \n",
       "1                 10                      3               3              10   \n",
       "2                  7                      3               3               0   \n",
       "3                  8                      3               3               8   \n",
       "4                  6                      3               3               2   \n",
       "\n",
       "  YearsInCurrentRole  YearsSinceLastPromotion  YearsWithCurrManager  \n",
       "0                  4                        0                     5  \n",
       "1                  7                        1                     7  \n",
       "2                  0                        0                     0  \n",
       "3                  7                        3                     0  \n",
       "4                  2                        2                     2  \n",
       "\n",
       "[5 rows x 35 columns]"
      ]
     },
     "execution_count": 5,
     "metadata": {},
     "output_type": "execute_result"
    }
   ],
   "source": [
    "# Read Excel file\n",
    "import types\n",
    "import pandas as pd\n",
    "from botocore.client import Config\n",
    "import ibm_boto3\n",
    "\n",
    "def __iter__(self): return 0\n",
    "\n",
    "# @hidden_cell\n",
    "# The following code accesses a file in your IBM Cloud Object Storage. It includes your credentials.\n",
    "# You might want to remove those credentials before you share the notebook.\n",
    "client_936b5453486a485a92df909519beeb4e = ibm_boto3.client(service_name='s3',\n",
    "    ibm_api_key_id='kTcx3T-d0AkXnb204E98MV_6CWpYFBJkg41-aM7loOQn',\n",
    "    ibm_auth_endpoint=\"https://iam.eu-gb.bluemix.net/oidc/token\",\n",
    "    config=Config(signature_version='oauth'),\n",
    "    endpoint_url='https://s3.eu-geo.objectstorage.service.networklayer.com')\n",
    "\n",
    "body = client_936b5453486a485a92df909519beeb4e.get_object(Bucket='digitalsummit-donotdelete-pr-aachs40fmouamm',Key='WA_Fn-UseC_-HR-Employee-Attrition.xlsx')['Body']\n",
    "# add missing __iter__ method, so pandas accepts body as file-like object\n",
    "if not hasattr(body, \"__iter__\"): body.__iter__ = types.MethodType( __iter__, body )\n",
    "\n",
    "df_data_0 = pd.read_excel(body)\n",
    "df_data_0.head()"
   ]
  },
  {
   "cell_type": "markdown",
   "metadata": {},
   "source": [
    "## Data Description and Exploratory Visualisations"
   ]
  },
  {
   "cell_type": "code",
   "execution_count": 6,
   "metadata": {},
   "outputs": [
    {
     "data": {
      "text/plain": [
       "Index(['Age', 'Attrition', 'BusinessTravel', 'DailyRate', 'Department',\n",
       "       'DistanceFromHome', 'Education', 'EducationField', 'EmployeeCount',\n",
       "       'EmployeeNumber', 'EnvironmentSatisfaction', 'Gender', 'HourlyRate',\n",
       "       'JobInvolvement', 'JobLevel', 'JobRole', 'JobSatisfaction',\n",
       "       'MaritalStatus', 'MonthlyIncome', 'MonthlyRate', 'NumCompaniesWorked',\n",
       "       'Over18', 'OverTime', 'PercentSalaryHike', 'PerformanceRating',\n",
       "       'RelationshipSatisfaction', 'StandardHours', 'StockOptionLevel',\n",
       "       'TotalWorkingYears', 'TrainingTimesLastYear', 'WorkLifeBalance',\n",
       "       'YearsAtCompany', 'YearsInCurrentRole', 'YearsSinceLastPromotion',\n",
       "       'YearsWithCurrManager'],\n",
       "      dtype='object')"
      ]
     },
     "execution_count": 6,
     "metadata": {},
     "output_type": "execute_result"
    }
   ],
   "source": [
    "# Dataset columns\n",
    "df_data_0.columns"
   ]
  },
  {
   "cell_type": "code",
   "execution_count": 7,
   "metadata": {},
   "outputs": [
    {
     "data": {
      "text/plain": [
       "{dtype('int64'): Index(['Age', 'DailyRate', 'DistanceFromHome', 'Education', 'EmployeeCount',\n",
       "        'EmployeeNumber', 'EnvironmentSatisfaction', 'HourlyRate',\n",
       "        'JobInvolvement', 'JobLevel', 'JobSatisfaction', 'MonthlyIncome',\n",
       "        'MonthlyRate', 'NumCompaniesWorked', 'PercentSalaryHike',\n",
       "        'PerformanceRating', 'RelationshipSatisfaction', 'StandardHours',\n",
       "        'StockOptionLevel', 'TotalWorkingYears', 'TrainingTimesLastYear',\n",
       "        'WorkLifeBalance', 'YearsAtCompany', 'YearsInCurrentRole',\n",
       "        'YearsSinceLastPromotion', 'YearsWithCurrManager'],\n",
       "       dtype='object'),\n",
       " dtype('O'): Index(['Attrition', 'BusinessTravel', 'Department', 'EducationField', 'Gender',\n",
       "        'JobRole', 'MaritalStatus', 'Over18', 'OverTime'],\n",
       "       dtype='object')}"
      ]
     },
     "execution_count": 7,
     "metadata": {},
     "output_type": "execute_result"
    }
   ],
   "source": [
    "df_data_0.columns.to_series().groupby(df_data_0.dtypes).groups"
   ]
  },
  {
   "cell_type": "code",
   "execution_count": 8,
   "metadata": {},
   "outputs": [
    {
     "name": "stdout",
     "output_type": "stream",
     "text": [
      "<class 'pandas.core.frame.DataFrame'>\n",
      "RangeIndex: 1470 entries, 0 to 1469\n",
      "Data columns (total 35 columns):\n",
      "Age                         1470 non-null int64\n",
      "Attrition                   1470 non-null object\n",
      "BusinessTravel              1470 non-null object\n",
      "DailyRate                   1470 non-null int64\n",
      "Department                  1470 non-null object\n",
      "DistanceFromHome            1470 non-null int64\n",
      "Education                   1470 non-null int64\n",
      "EducationField              1470 non-null object\n",
      "EmployeeCount               1470 non-null int64\n",
      "EmployeeNumber              1470 non-null int64\n",
      "EnvironmentSatisfaction     1470 non-null int64\n",
      "Gender                      1470 non-null object\n",
      "HourlyRate                  1470 non-null int64\n",
      "JobInvolvement              1470 non-null int64\n",
      "JobLevel                    1470 non-null int64\n",
      "JobRole                     1470 non-null object\n",
      "JobSatisfaction             1470 non-null int64\n",
      "MaritalStatus               1470 non-null object\n",
      "MonthlyIncome               1470 non-null int64\n",
      "MonthlyRate                 1470 non-null int64\n",
      "NumCompaniesWorked          1470 non-null int64\n",
      "Over18                      1470 non-null object\n",
      "OverTime                    1470 non-null object\n",
      "PercentSalaryHike           1470 non-null int64\n",
      "PerformanceRating           1470 non-null int64\n",
      "RelationshipSatisfaction    1470 non-null int64\n",
      "StandardHours               1470 non-null int64\n",
      "StockOptionLevel            1470 non-null int64\n",
      "TotalWorkingYears           1470 non-null int64\n",
      "TrainingTimesLastYear       1470 non-null int64\n",
      "WorkLifeBalance             1470 non-null int64\n",
      "YearsAtCompany              1470 non-null int64\n",
      "YearsInCurrentRole          1470 non-null int64\n",
      "YearsSinceLastPromotion     1470 non-null int64\n",
      "YearsWithCurrManager        1470 non-null int64\n",
      "dtypes: int64(26), object(9)\n",
      "memory usage: 402.0+ KB\n"
     ]
    }
   ],
   "source": [
    "# Columns datatypes and missign values\n",
    "df_data_0.info()"
   ]
  },
  {
   "cell_type": "code",
   "execution_count": 10,
   "metadata": {},
   "outputs": [
    {
     "data": {
      "image/png": "[encoded data removed]",
      "text/plain": [
       "<Figure size 1440x1440 with 30 Axes>"
      ]
     },
     "metadata": {
      "needs_background": "light"
     },
     "output_type": "display_data"
    }
   ],
   "source": [
    "df_data_0.hist(figsize=(20,20))\n",
    "plt.show()"
   ]
  },
  {
   "cell_type": "markdown",
   "metadata": {},
   "source": [
    "## Feature distribution by target attribute"
   ]
  },
  {
   "cell_type": "code",
   "execution_count": 11,
   "metadata": {},
   "outputs": [
    {
     "data": {
      "text/plain": [
       "Life Sciences       606\n",
       "Medical             464\n",
       "Marketing           159\n",
       "Technical Degree    132\n",
       "Other                82\n",
       "Human Resources      27\n",
       "Name: EducationField, dtype: int64"
      ]
     },
     "execution_count": 11,
     "metadata": {},
     "output_type": "execute_result"
    }
   ],
   "source": [
    "# Education Field of employees\n",
    "df_data_0['EducationField'].value_counts()"
   ]
  },
  {
   "cell_type": "code",
   "execution_count": 12,
   "metadata": {},
   "outputs": [
    {
     "data": {
      "text/plain": [
       "<matplotlib.axes._subplots.AxesSubplot at 0x7f79c036c438>"
      ]
     },
     "execution_count": 12,
     "metadata": {},
     "output_type": "execute_result"
    },
    {
     "data": {
      "image/png": "[encoded data removed]",
      "text/plain": [
       "<Figure size 432x288 with 1 Axes>"
      ]
     },
     "metadata": {
      "needs_background": "light"
     },
     "output_type": "display_data"
    }
   ],
   "source": [
    "df_EducationField = pd.DataFrame(columns=[\"Field\", \"% of Leavers\"])\n",
    "i=0\n",
    "for field in list(df_data_0['EducationField'].unique()):\n",
    "    ratio = df_data_0[(df_data_0['EducationField']==field)&(df_data_0['Attrition']==\"Yes\")].shape[0] / df_data_0[df_data_0['EducationField']==field].shape[0]\n",
    "    df_EducationField.loc[i] = (field, ratio*100)\n",
    "    i += 1\n",
    "    #print(\"In {}, the ratio of leavers is {:.2f}%\".format(field, ratio*100))    \n",
    "df_EF = df_EducationField.groupby(by=\"Field\").sum()\n",
    "df_EF.plot(kind='bar',title='Leavers by Education Field (%)')"
   ]
  },
  {
   "cell_type": "code",
   "execution_count": 13,
   "metadata": {},
   "outputs": [
    {
     "data": {
      "text/plain": [
       "Male      882\n",
       "Female    588\n",
       "Name: Gender, dtype: int64"
      ]
     },
     "execution_count": 13,
     "metadata": {},
     "output_type": "execute_result"
    }
   ],
   "source": [
    "# Gender of employees\n",
    "df_data_0['Gender'].value_counts()"
   ]
  },
  {
   "cell_type": "code",
   "execution_count": 14,
   "metadata": {},
   "outputs": [
    {
     "name": "stdout",
     "output_type": "stream",
     "text": [
      "Normalised gender distribution of ex-employees in the dataset: Male = 17.0%; Female 14.8%.\n"
     ]
    }
   ],
   "source": [
    "print(\"Normalised gender distribution of ex-employees in the dataset: Male = {:.1f}%; Female {:.1f}%.\".format((df_data_0[(df_data_0['Attrition'] == 'Yes') & (\n",
    "    df_data_0['Gender'] == 'Male')].shape[0] / df_data_0[df_data_0['Gender'] == 'Male'].shape[0])*100, (df_data_0[(df_data_0['Attrition'] == 'Yes') & (df_data_0['Gender'] == 'Female')].shape[0] / df_data_0[df_data_0['Gender'] == 'Female'].shape[0])*100))"
   ]
  },
  {
   "cell_type": "code",
   "execution_count": 15,
   "metadata": {},
   "outputs": [
    {
     "data": {
      "text/plain": [
       "<matplotlib.axes._subplots.AxesSubplot at 0x7f79c0324668>"
      ]
     },
     "execution_count": 15,
     "metadata": {},
     "output_type": "execute_result"
    },
    {
     "data": {
      "image/png": "[encoded data removed]",
      "text/plain": [
       "<Figure size 432x288 with 1 Axes>"
      ]
     },
     "metadata": {
      "needs_background": "light"
     },
     "output_type": "display_data"
    }
   ],
   "source": [
    "df_Gender = pd.DataFrame(columns=[\"Gender\", \"% of Leavers\"])\n",
    "i=0\n",
    "for field in list(df_data_0['Gender'].unique()):\n",
    "    ratio = df_data_0[(df_data_0['Gender']==field)&(df_data_0['Attrition']==\"Yes\")].shape[0] / df_data_0[df_data_0['Gender']==field].shape[0]\n",
    "    df_Gender.loc[i] = (field, ratio*100)\n",
    "    i += 1\n",
    "    #print(\"In {}, the ratio of leavers is {:.2f}%\".format(field, ratio*100))    \n",
    "df_G = df_Gender.groupby(by=\"Gender\").sum()\n",
    "df_G.plot(kind='bar',title='Leavers by Gender (%)')"
   ]
  },
  {
   "cell_type": "code",
   "execution_count": 16,
   "metadata": {},
   "outputs": [
    {
     "data": {
      "text/plain": [
       "Married     673\n",
       "Single      470\n",
       "Divorced    327\n",
       "Name: MaritalStatus, dtype: int64"
      ]
     },
     "execution_count": 16,
     "metadata": {},
     "output_type": "execute_result"
    }
   ],
   "source": [
    "# Marital Status of employees\n",
    "df_data_0['MaritalStatus'].value_counts()"
   ]
  },
  {
   "cell_type": "code",
   "execution_count": 17,
   "metadata": {},
   "outputs": [
    {
     "data": {
      "text/plain": [
       "<matplotlib.axes._subplots.AxesSubplot at 0x7f79c028a198>"
      ]
     },
     "execution_count": 17,
     "metadata": {},
     "output_type": "execute_result"
    },
    {
     "data": {
      "image/png": "[encoded data removed]",
      "text/plain": [
       "<Figure size 432x288 with 1 Axes>"
      ]
     },
     "metadata": {
      "needs_background": "light"
     },
     "output_type": "display_data"
    }
   ],
   "source": [
    "df_Marital = pd.DataFrame(columns=[\"Marital Status\", \"% of Leavers\"])\n",
    "i=0\n",
    "for field in list(df_data_0['MaritalStatus'].unique()):\n",
    "    ratio = df_data_0[(df_data_0['MaritalStatus']==field)&(df_data_0['Attrition']==\"Yes\")].shape[0] / df_data_0[df_data_0['MaritalStatus']==field].shape[0]\n",
    "    df_Marital.loc[i] = (field, ratio*100)\n",
    "    i += 1\n",
    "    #print(\"In {}, the ratio of leavers is {:.2f}%\".format(field, ratio*100))    \n",
    "df_MF = df_Marital.groupby(by=\"Marital Status\").sum()\n",
    "df_MF.plot(kind='bar',title='Leavers by Marital Status (%)')"
   ]
  },
  {
   "cell_type": "markdown",
   "metadata": {},
   "source": [
    "### Correlation"
   ]
  },
  {
   "cell_type": "code",
   "execution_count": 22,
   "metadata": {},
   "outputs": [
    {
     "name": "stdout",
     "output_type": "stream",
     "text": [
      "Most Positive Correlations: \n",
      " PerformanceRating     0.002889\n",
      "MonthlyRate           0.015170\n",
      "NumCompaniesWorked    0.043494\n",
      "DistanceFromHome      0.077924\n",
      "Target                1.000000\n",
      "Name: Target, dtype: float64\n",
      "\n",
      "Most Negative Correlations: \n",
      " TotalWorkingYears    -0.171063\n",
      "JobLevel             -0.169105\n",
      "YearsInCurrentRole   -0.160545\n",
      "MonthlyIncome        -0.159840\n",
      "Age                  -0.159205\n",
      "Name: Target, dtype: float64\n"
     ]
    }
   ],
   "source": [
    "# Find correlations with the target and sort\n",
    "df_data_0_trans = df_data_0.copy()\n",
    "df_data_0_trans['Target'] = df_data_0_trans['Attrition'].apply(\n",
    "    lambda x: 0 if x == 'No' else 1)\n",
    "df_data_0_trans = df_data_0_trans.drop(\n",
    "    ['Attrition', 'EmployeeCount', 'EmployeeNumber', 'StandardHours', 'Over18'], axis=1)\n",
    "correlations = df_data_0_trans.corr()['Target'].sort_values()\n",
    "print('Most Positive Correlations: \\n', correlations.tail(5))\n",
    "print('\\nMost Negative Correlations: \\n', correlations.head(5))"
   ]
  },
  {
   "cell_type": "code",
   "execution_count": 23,
   "metadata": {},
   "outputs": [
    {
     "data": {
      "text/plain": [
       "<matplotlib.axes._subplots.AxesSubplot at 0x7f79c11f6898>"
      ]
     },
     "execution_count": 23,
     "metadata": {},
     "output_type": "execute_result"
    },
    {
     "data": {
      "image/png": "[encoded data removed]",
      "text/plain": [
       "<Figure size 1080x720 with 2 Axes>"
      ]
     },
     "metadata": {
      "needs_background": "light"
     },
     "output_type": "display_data"
    }
   ],
   "source": [
    "#Heatmap\n",
    "# Calculate correlations\n",
    "corr = df_data_0_trans.corr()\n",
    "mask = np.zeros_like(corr)\n",
    "mask[np.triu_indices_from(mask)] = True\n",
    "# Heatmap\n",
    "plt.figure(figsize=(15, 10))\n",
    "sns.heatmap(corr,\n",
    "            vmax=.5,\n",
    "            mask=mask,\n",
    "            # annot=True, fmt='.2f',\n",
    "            linewidths=.2, cmap=\"YlGnBu\")"
   ]
  },
  {
   "cell_type": "markdown",
   "metadata": {},
   "source": [
    "## Pre-processing Pipeline\n",
    "\n",
    "Encoding\n",
    "Machine Learning algorithms can typically only have numerical values as their predictor variables. \n",
    "Hence Label Encoding becomes necessary as they encode categorical labels with numerical values. \n",
    "To avoid introducing feature importance for categorical features with large numbers of unique values, \n",
    "we will use both Lable Encoding and One-Hot Encoding as shown below."
   ]
  },
  {
   "cell_type": "code",
   "execution_count": 24,
   "metadata": {},
   "outputs": [],
   "source": [
    "from sklearn.preprocessing import LabelEncoder, OneHotEncoder\n",
    "# Create a label encoder object\n",
    "le = LabelEncoder()"
   ]
  },
  {
   "cell_type": "code",
   "execution_count": 25,
   "metadata": {},
   "outputs": [
    {
     "name": "stdout",
     "output_type": "stream",
     "text": [
      "(1470, 35)\n"
     ]
    },
    {
     "data": {
      "text/html": [
       "<div>\n",
       "<style scoped>\n",
       "    .dataframe tbody tr th:only-of-type {\n",
       "        vertical-align: middle;\n",
       "    }\n",
       "\n",
       "    .dataframe tbody tr th {\n",
       "        vertical-align: top;\n",
       "    }\n",
       "\n",
       "    .dataframe thead th {\n",
       "        text-align: right;\n",
       "    }\n",
       "</style>\n",
       "<table border=\"1\" class=\"dataframe\">\n",
       "  <thead>\n",
       "    <tr style=\"text-align: right;\">\n",
       "      <th></th>\n",
       "      <th>Age</th>\n",
       "      <th>Attrition</th>\n",
       "      <th>BusinessTravel</th>\n",
       "      <th>DailyRate</th>\n",
       "      <th>Department</th>\n",
       "      <th>DistanceFromHome</th>\n",
       "      <th>Education</th>\n",
       "      <th>EducationField</th>\n",
       "      <th>EmployeeCount</th>\n",
       "      <th>EmployeeNumber</th>\n",
       "      <th>...</th>\n",
       "      <th>RelationshipSatisfaction</th>\n",
       "      <th>StandardHours</th>\n",
       "      <th>StockOptionLevel</th>\n",
       "      <th>TotalWorkingYears</th>\n",
       "      <th>TrainingTimesLastYear</th>\n",
       "      <th>WorkLifeBalance</th>\n",
       "      <th>YearsAtCompany</th>\n",
       "      <th>YearsInCurrentRole</th>\n",
       "      <th>YearsSinceLastPromotion</th>\n",
       "      <th>YearsWithCurrManager</th>\n",
       "    </tr>\n",
       "  </thead>\n",
       "  <tbody>\n",
       "    <tr>\n",
       "      <th>0</th>\n",
       "      <td>41</td>\n",
       "      <td>Yes</td>\n",
       "      <td>Travel_Rarely</td>\n",
       "      <td>1102</td>\n",
       "      <td>Sales</td>\n",
       "      <td>1</td>\n",
       "      <td>2</td>\n",
       "      <td>Life Sciences</td>\n",
       "      <td>1</td>\n",
       "      <td>1</td>\n",
       "      <td>...</td>\n",
       "      <td>1</td>\n",
       "      <td>80</td>\n",
       "      <td>0</td>\n",
       "      <td>8</td>\n",
       "      <td>0</td>\n",
       "      <td>1</td>\n",
       "      <td>6</td>\n",
       "      <td>4</td>\n",
       "      <td>0</td>\n",
       "      <td>5</td>\n",
       "    </tr>\n",
       "    <tr>\n",
       "      <th>1</th>\n",
       "      <td>49</td>\n",
       "      <td>No</td>\n",
       "      <td>Travel_Frequently</td>\n",
       "      <td>279</td>\n",
       "      <td>Research &amp; Development</td>\n",
       "      <td>8</td>\n",
       "      <td>1</td>\n",
       "      <td>Life Sciences</td>\n",
       "      <td>1</td>\n",
       "      <td>2</td>\n",
       "      <td>...</td>\n",
       "      <td>4</td>\n",
       "      <td>80</td>\n",
       "      <td>1</td>\n",
       "      <td>10</td>\n",
       "      <td>3</td>\n",
       "      <td>3</td>\n",
       "      <td>10</td>\n",
       "      <td>7</td>\n",
       "      <td>1</td>\n",
       "      <td>7</td>\n",
       "    </tr>\n",
       "    <tr>\n",
       "      <th>2</th>\n",
       "      <td>37</td>\n",
       "      <td>Yes</td>\n",
       "      <td>Travel_Rarely</td>\n",
       "      <td>1373</td>\n",
       "      <td>Research &amp; Development</td>\n",
       "      <td>2</td>\n",
       "      <td>2</td>\n",
       "      <td>Other</td>\n",
       "      <td>1</td>\n",
       "      <td>4</td>\n",
       "      <td>...</td>\n",
       "      <td>2</td>\n",
       "      <td>80</td>\n",
       "      <td>0</td>\n",
       "      <td>7</td>\n",
       "      <td>3</td>\n",
       "      <td>3</td>\n",
       "      <td>0</td>\n",
       "      <td>0</td>\n",
       "      <td>0</td>\n",
       "      <td>0</td>\n",
       "    </tr>\n",
       "    <tr>\n",
       "      <th>3</th>\n",
       "      <td>33</td>\n",
       "      <td>No</td>\n",
       "      <td>Travel_Frequently</td>\n",
       "      <td>1392</td>\n",
       "      <td>Research &amp; Development</td>\n",
       "      <td>3</td>\n",
       "      <td>4</td>\n",
       "      <td>Life Sciences</td>\n",
       "      <td>1</td>\n",
       "      <td>5</td>\n",
       "      <td>...</td>\n",
       "      <td>3</td>\n",
       "      <td>80</td>\n",
       "      <td>0</td>\n",
       "      <td>8</td>\n",
       "      <td>3</td>\n",
       "      <td>3</td>\n",
       "      <td>8</td>\n",
       "      <td>7</td>\n",
       "      <td>3</td>\n",
       "      <td>0</td>\n",
       "    </tr>\n",
       "    <tr>\n",
       "      <th>4</th>\n",
       "      <td>27</td>\n",
       "      <td>No</td>\n",
       "      <td>Travel_Rarely</td>\n",
       "      <td>591</td>\n",
       "      <td>Research &amp; Development</td>\n",
       "      <td>2</td>\n",
       "      <td>1</td>\n",
       "      <td>Medical</td>\n",
       "      <td>1</td>\n",
       "      <td>7</td>\n",
       "      <td>...</td>\n",
       "      <td>4</td>\n",
       "      <td>80</td>\n",
       "      <td>1</td>\n",
       "      <td>6</td>\n",
       "      <td>3</td>\n",
       "      <td>3</td>\n",
       "      <td>2</td>\n",
       "      <td>2</td>\n",
       "      <td>2</td>\n",
       "      <td>2</td>\n",
       "    </tr>\n",
       "  </tbody>\n",
       "</table>\n",
       "<p>5 rows × 35 columns</p>\n",
       "</div>"
      ],
      "text/plain": [
       "   Age Attrition     BusinessTravel  DailyRate              Department  \\\n",
       "0   41       Yes      Travel_Rarely       1102                   Sales   \n",
       "1   49        No  Travel_Frequently        279  Research & Development   \n",
       "2   37       Yes      Travel_Rarely       1373  Research & Development   \n",
       "3   33        No  Travel_Frequently       1392  Research & Development   \n",
       "4   27        No      Travel_Rarely        591  Research & Development   \n",
       "\n",
       "   DistanceFromHome  Education EducationField  EmployeeCount  EmployeeNumber  \\\n",
       "0                 1          2  Life Sciences              1               1   \n",
       "1                 8          1  Life Sciences              1               2   \n",
       "2                 2          2          Other              1               4   \n",
       "3                 3          4  Life Sciences              1               5   \n",
       "4                 2          1        Medical              1               7   \n",
       "\n",
       "   ...  RelationshipSatisfaction StandardHours  StockOptionLevel  \\\n",
       "0  ...                         1            80                 0   \n",
       "1  ...                         4            80                 1   \n",
       "2  ...                         2            80                 0   \n",
       "3  ...                         3            80                 0   \n",
       "4  ...                         4            80                 1   \n",
       "\n",
       "   TotalWorkingYears  TrainingTimesLastYear WorkLifeBalance  YearsAtCompany  \\\n",
       "0                  8                      0               1               6   \n",
       "1                 10                      3               3              10   \n",
       "2                  7                      3               3               0   \n",
       "3                  8                      3               3               8   \n",
       "4                  6                      3               3               2   \n",
       "\n",
       "  YearsInCurrentRole  YearsSinceLastPromotion  YearsWithCurrManager  \n",
       "0                  4                        0                     5  \n",
       "1                  7                        1                     7  \n",
       "2                  0                        0                     0  \n",
       "3                  7                        3                     0  \n",
       "4                  2                        2                     2  \n",
       "\n",
       "[5 rows x 35 columns]"
      ]
     },
     "execution_count": 25,
     "metadata": {},
     "output_type": "execute_result"
    }
   ],
   "source": [
    "print(df_data_0.shape)\n",
    "df_data_0.head()"
   ]
  },
  {
   "cell_type": "code",
   "execution_count": 26,
   "metadata": {},
   "outputs": [
    {
     "name": "stdout",
     "output_type": "stream",
     "text": [
      "4 columns were label encoded.\n"
     ]
    }
   ],
   "source": [
    "# Label Encoding will be used for columns with 2 or less unique values\n",
    "le_count = 0\n",
    "for col in df_data_0.columns[1:]:\n",
    "    if df_data_0[col].dtype == 'object':\n",
    "        if len(list(df_data_0[col].unique())) <= 2:\n",
    "            le.fit(df_data_0[col])\n",
    "            df_data_0[col] = le.transform(df_data_0[col])\n",
    "            le_count += 1\n",
    "print('{} columns were label encoded.'.format(le_count))"
   ]
  },
  {
   "cell_type": "code",
   "execution_count": 27,
   "metadata": {},
   "outputs": [],
   "source": [
    "# convert rest of categorical variable into dummy\n",
    "df_data_0 = pd.get_dummies(df_data_0, drop_first=True)\n",
    "#The resulting dataframe has 49 columns for 1,470 employees."
   ]
  },
  {
   "cell_type": "code",
   "execution_count": 28,
   "metadata": {},
   "outputs": [
    {
     "name": "stdout",
     "output_type": "stream",
     "text": [
      "(1470, 49)\n"
     ]
    },
    {
     "data": {
      "text/html": [
       "<div>\n",
       "<style scoped>\n",
       "    .dataframe tbody tr th:only-of-type {\n",
       "        vertical-align: middle;\n",
       "    }\n",
       "\n",
       "    .dataframe tbody tr th {\n",
       "        vertical-align: top;\n",
       "    }\n",
       "\n",
       "    .dataframe thead th {\n",
       "        text-align: right;\n",
       "    }\n",
       "</style>\n",
       "<table border=\"1\" class=\"dataframe\">\n",
       "  <thead>\n",
       "    <tr style=\"text-align: right;\">\n",
       "      <th></th>\n",
       "      <th>Age</th>\n",
       "      <th>Attrition</th>\n",
       "      <th>DailyRate</th>\n",
       "      <th>DistanceFromHome</th>\n",
       "      <th>Education</th>\n",
       "      <th>EmployeeCount</th>\n",
       "      <th>EmployeeNumber</th>\n",
       "      <th>EnvironmentSatisfaction</th>\n",
       "      <th>Gender</th>\n",
       "      <th>HourlyRate</th>\n",
       "      <th>...</th>\n",
       "      <th>JobRole_Human Resources</th>\n",
       "      <th>JobRole_Laboratory Technician</th>\n",
       "      <th>JobRole_Manager</th>\n",
       "      <th>JobRole_Manufacturing Director</th>\n",
       "      <th>JobRole_Research Director</th>\n",
       "      <th>JobRole_Research Scientist</th>\n",
       "      <th>JobRole_Sales Executive</th>\n",
       "      <th>JobRole_Sales Representative</th>\n",
       "      <th>MaritalStatus_Married</th>\n",
       "      <th>MaritalStatus_Single</th>\n",
       "    </tr>\n",
       "  </thead>\n",
       "  <tbody>\n",
       "    <tr>\n",
       "      <th>0</th>\n",
       "      <td>41</td>\n",
       "      <td>1</td>\n",
       "      <td>1102</td>\n",
       "      <td>1</td>\n",
       "      <td>2</td>\n",
       "      <td>1</td>\n",
       "      <td>1</td>\n",
       "      <td>2</td>\n",
       "      <td>0</td>\n",
       "      <td>94</td>\n",
       "      <td>...</td>\n",
       "      <td>0</td>\n",
       "      <td>0</td>\n",
       "      <td>0</td>\n",
       "      <td>0</td>\n",
       "      <td>0</td>\n",
       "      <td>0</td>\n",
       "      <td>1</td>\n",
       "      <td>0</td>\n",
       "      <td>0</td>\n",
       "      <td>1</td>\n",
       "    </tr>\n",
       "    <tr>\n",
       "      <th>1</th>\n",
       "      <td>49</td>\n",
       "      <td>0</td>\n",
       "      <td>279</td>\n",
       "      <td>8</td>\n",
       "      <td>1</td>\n",
       "      <td>1</td>\n",
       "      <td>2</td>\n",
       "      <td>3</td>\n",
       "      <td>1</td>\n",
       "      <td>61</td>\n",
       "      <td>...</td>\n",
       "      <td>0</td>\n",
       "      <td>0</td>\n",
       "      <td>0</td>\n",
       "      <td>0</td>\n",
       "      <td>0</td>\n",
       "      <td>1</td>\n",
       "      <td>0</td>\n",
       "      <td>0</td>\n",
       "      <td>1</td>\n",
       "      <td>0</td>\n",
       "    </tr>\n",
       "    <tr>\n",
       "      <th>2</th>\n",
       "      <td>37</td>\n",
       "      <td>1</td>\n",
       "      <td>1373</td>\n",
       "      <td>2</td>\n",
       "      <td>2</td>\n",
       "      <td>1</td>\n",
       "      <td>4</td>\n",
       "      <td>4</td>\n",
       "      <td>1</td>\n",
       "      <td>92</td>\n",
       "      <td>...</td>\n",
       "      <td>0</td>\n",
       "      <td>1</td>\n",
       "      <td>0</td>\n",
       "      <td>0</td>\n",
       "      <td>0</td>\n",
       "      <td>0</td>\n",
       "      <td>0</td>\n",
       "      <td>0</td>\n",
       "      <td>0</td>\n",
       "      <td>1</td>\n",
       "    </tr>\n",
       "    <tr>\n",
       "      <th>3</th>\n",
       "      <td>33</td>\n",
       "      <td>0</td>\n",
       "      <td>1392</td>\n",
       "      <td>3</td>\n",
       "      <td>4</td>\n",
       "      <td>1</td>\n",
       "      <td>5</td>\n",
       "      <td>4</td>\n",
       "      <td>0</td>\n",
       "      <td>56</td>\n",
       "      <td>...</td>\n",
       "      <td>0</td>\n",
       "      <td>0</td>\n",
       "      <td>0</td>\n",
       "      <td>0</td>\n",
       "      <td>0</td>\n",
       "      <td>1</td>\n",
       "      <td>0</td>\n",
       "      <td>0</td>\n",
       "      <td>1</td>\n",
       "      <td>0</td>\n",
       "    </tr>\n",
       "    <tr>\n",
       "      <th>4</th>\n",
       "      <td>27</td>\n",
       "      <td>0</td>\n",
       "      <td>591</td>\n",
       "      <td>2</td>\n",
       "      <td>1</td>\n",
       "      <td>1</td>\n",
       "      <td>7</td>\n",
       "      <td>1</td>\n",
       "      <td>1</td>\n",
       "      <td>40</td>\n",
       "      <td>...</td>\n",
       "      <td>0</td>\n",
       "      <td>1</td>\n",
       "      <td>0</td>\n",
       "      <td>0</td>\n",
       "      <td>0</td>\n",
       "      <td>0</td>\n",
       "      <td>0</td>\n",
       "      <td>0</td>\n",
       "      <td>1</td>\n",
       "      <td>0</td>\n",
       "    </tr>\n",
       "  </tbody>\n",
       "</table>\n",
       "<p>5 rows × 49 columns</p>\n",
       "</div>"
      ],
      "text/plain": [
       "   Age  Attrition  DailyRate  DistanceFromHome  Education  EmployeeCount  \\\n",
       "0   41          1       1102                 1          2              1   \n",
       "1   49          0        279                 8          1              1   \n",
       "2   37          1       1373                 2          2              1   \n",
       "3   33          0       1392                 3          4              1   \n",
       "4   27          0        591                 2          1              1   \n",
       "\n",
       "   EmployeeNumber  EnvironmentSatisfaction  Gender  HourlyRate  ...  \\\n",
       "0               1                        2       0          94  ...   \n",
       "1               2                        3       1          61  ...   \n",
       "2               4                        4       1          92  ...   \n",
       "3               5                        4       0          56  ...   \n",
       "4               7                        1       1          40  ...   \n",
       "\n",
       "   JobRole_Human Resources  JobRole_Laboratory Technician  JobRole_Manager  \\\n",
       "0                        0                              0                0   \n",
       "1                        0                              0                0   \n",
       "2                        0                              1                0   \n",
       "3                        0                              0                0   \n",
       "4                        0                              1                0   \n",
       "\n",
       "   JobRole_Manufacturing Director  JobRole_Research Director  \\\n",
       "0                               0                          0   \n",
       "1                               0                          0   \n",
       "2                               0                          0   \n",
       "3                               0                          0   \n",
       "4                               0                          0   \n",
       "\n",
       "   JobRole_Research Scientist  JobRole_Sales Executive  \\\n",
       "0                           0                        1   \n",
       "1                           1                        0   \n",
       "2                           0                        0   \n",
       "3                           1                        0   \n",
       "4                           0                        0   \n",
       "\n",
       "   JobRole_Sales Representative  MaritalStatus_Married  MaritalStatus_Single  \n",
       "0                             0                      0                     1  \n",
       "1                             0                      1                     0  \n",
       "2                             0                      0                     1  \n",
       "3                             0                      1                     0  \n",
       "4                             0                      1                     0  \n",
       "\n",
       "[5 rows x 49 columns]"
      ]
     },
     "execution_count": 28,
     "metadata": {},
     "output_type": "execute_result"
    }
   ],
   "source": [
    "print(df_data_0.shape)\n",
    "df_data_0.head()"
   ]
  },
  {
   "cell_type": "markdown",
   "metadata": {},
   "source": [
    "## Feature Scaling\n",
    "Feature Scaling using MinMaxScaler essentially shrinks the range such that the range is now between 0 and n. \n",
    "Machine Learning algorithms perform better when input numerical variables fall within a similar scale. \n",
    "In this case, we are scaling between 0 and 5."
   ]
  },
  {
   "cell_type": "code",
   "execution_count": 29,
   "metadata": {},
   "outputs": [
    {
     "data": {
      "text/html": [
       "<div>\n",
       "<style scoped>\n",
       "    .dataframe tbody tr th:only-of-type {\n",
       "        vertical-align: middle;\n",
       "    }\n",
       "\n",
       "    .dataframe tbody tr th {\n",
       "        vertical-align: top;\n",
       "    }\n",
       "\n",
       "    .dataframe thead th {\n",
       "        text-align: right;\n",
       "    }\n",
       "</style>\n",
       "<table border=\"1\" class=\"dataframe\">\n",
       "  <thead>\n",
       "    <tr style=\"text-align: right;\">\n",
       "      <th></th>\n",
       "      <th>Age</th>\n",
       "      <th>Attrition</th>\n",
       "      <th>DailyRate</th>\n",
       "      <th>DistanceFromHome</th>\n",
       "      <th>Education</th>\n",
       "      <th>EmployeeCount</th>\n",
       "      <th>EmployeeNumber</th>\n",
       "      <th>EnvironmentSatisfaction</th>\n",
       "      <th>Gender</th>\n",
       "      <th>HourlyRate</th>\n",
       "      <th>...</th>\n",
       "      <th>JobRole_Human Resources</th>\n",
       "      <th>JobRole_Laboratory Technician</th>\n",
       "      <th>JobRole_Manager</th>\n",
       "      <th>JobRole_Manufacturing Director</th>\n",
       "      <th>JobRole_Research Director</th>\n",
       "      <th>JobRole_Research Scientist</th>\n",
       "      <th>JobRole_Sales Executive</th>\n",
       "      <th>JobRole_Sales Representative</th>\n",
       "      <th>MaritalStatus_Married</th>\n",
       "      <th>MaritalStatus_Single</th>\n",
       "    </tr>\n",
       "  </thead>\n",
       "  <tbody>\n",
       "    <tr>\n",
       "      <th>0</th>\n",
       "      <td>2.738095</td>\n",
       "      <td>1.0</td>\n",
       "      <td>3.579098</td>\n",
       "      <td>0.000000</td>\n",
       "      <td>1.25</td>\n",
       "      <td>0.0</td>\n",
       "      <td>0.000000</td>\n",
       "      <td>1.666667</td>\n",
       "      <td>0.0</td>\n",
       "      <td>4.571429</td>\n",
       "      <td>...</td>\n",
       "      <td>0.0</td>\n",
       "      <td>0.0</td>\n",
       "      <td>0.0</td>\n",
       "      <td>0.0</td>\n",
       "      <td>0.0</td>\n",
       "      <td>0.0</td>\n",
       "      <td>5.0</td>\n",
       "      <td>0.0</td>\n",
       "      <td>0.0</td>\n",
       "      <td>5.0</td>\n",
       "    </tr>\n",
       "    <tr>\n",
       "      <th>1</th>\n",
       "      <td>3.690476</td>\n",
       "      <td>0.0</td>\n",
       "      <td>0.633500</td>\n",
       "      <td>1.250000</td>\n",
       "      <td>0.00</td>\n",
       "      <td>0.0</td>\n",
       "      <td>0.002419</td>\n",
       "      <td>3.333333</td>\n",
       "      <td>5.0</td>\n",
       "      <td>2.214286</td>\n",
       "      <td>...</td>\n",
       "      <td>0.0</td>\n",
       "      <td>0.0</td>\n",
       "      <td>0.0</td>\n",
       "      <td>0.0</td>\n",
       "      <td>0.0</td>\n",
       "      <td>5.0</td>\n",
       "      <td>0.0</td>\n",
       "      <td>0.0</td>\n",
       "      <td>5.0</td>\n",
       "      <td>0.0</td>\n",
       "    </tr>\n",
       "    <tr>\n",
       "      <th>2</th>\n",
       "      <td>2.261905</td>\n",
       "      <td>1.0</td>\n",
       "      <td>4.549034</td>\n",
       "      <td>0.178571</td>\n",
       "      <td>1.25</td>\n",
       "      <td>0.0</td>\n",
       "      <td>0.007257</td>\n",
       "      <td>5.000000</td>\n",
       "      <td>5.0</td>\n",
       "      <td>4.428571</td>\n",
       "      <td>...</td>\n",
       "      <td>0.0</td>\n",
       "      <td>5.0</td>\n",
       "      <td>0.0</td>\n",
       "      <td>0.0</td>\n",
       "      <td>0.0</td>\n",
       "      <td>0.0</td>\n",
       "      <td>0.0</td>\n",
       "      <td>0.0</td>\n",
       "      <td>0.0</td>\n",
       "      <td>5.0</td>\n",
       "    </tr>\n",
       "    <tr>\n",
       "      <th>3</th>\n",
       "      <td>1.785714</td>\n",
       "      <td>0.0</td>\n",
       "      <td>4.617037</td>\n",
       "      <td>0.357143</td>\n",
       "      <td>3.75</td>\n",
       "      <td>0.0</td>\n",
       "      <td>0.009676</td>\n",
       "      <td>5.000000</td>\n",
       "      <td>0.0</td>\n",
       "      <td>1.857143</td>\n",
       "      <td>...</td>\n",
       "      <td>0.0</td>\n",
       "      <td>0.0</td>\n",
       "      <td>0.0</td>\n",
       "      <td>0.0</td>\n",
       "      <td>0.0</td>\n",
       "      <td>5.0</td>\n",
       "      <td>0.0</td>\n",
       "      <td>0.0</td>\n",
       "      <td>5.0</td>\n",
       "      <td>0.0</td>\n",
       "    </tr>\n",
       "    <tr>\n",
       "      <th>4</th>\n",
       "      <td>1.071429</td>\n",
       "      <td>0.0</td>\n",
       "      <td>1.750179</td>\n",
       "      <td>0.178571</td>\n",
       "      <td>0.00</td>\n",
       "      <td>0.0</td>\n",
       "      <td>0.014514</td>\n",
       "      <td>0.000000</td>\n",
       "      <td>5.0</td>\n",
       "      <td>0.714286</td>\n",
       "      <td>...</td>\n",
       "      <td>0.0</td>\n",
       "      <td>5.0</td>\n",
       "      <td>0.0</td>\n",
       "      <td>0.0</td>\n",
       "      <td>0.0</td>\n",
       "      <td>0.0</td>\n",
       "      <td>0.0</td>\n",
       "      <td>0.0</td>\n",
       "      <td>5.0</td>\n",
       "      <td>0.0</td>\n",
       "    </tr>\n",
       "  </tbody>\n",
       "</table>\n",
       "<p>5 rows × 49 columns</p>\n",
       "</div>"
      ],
      "text/plain": [
       "        Age  Attrition  DailyRate  DistanceFromHome  Education  EmployeeCount  \\\n",
       "0  2.738095        1.0   3.579098          0.000000       1.25            0.0   \n",
       "1  3.690476        0.0   0.633500          1.250000       0.00            0.0   \n",
       "2  2.261905        1.0   4.549034          0.178571       1.25            0.0   \n",
       "3  1.785714        0.0   4.617037          0.357143       3.75            0.0   \n",
       "4  1.071429        0.0   1.750179          0.178571       0.00            0.0   \n",
       "\n",
       "   EmployeeNumber  EnvironmentSatisfaction  Gender  HourlyRate  ...  \\\n",
       "0        0.000000                 1.666667     0.0    4.571429  ...   \n",
       "1        0.002419                 3.333333     5.0    2.214286  ...   \n",
       "2        0.007257                 5.000000     5.0    4.428571  ...   \n",
       "3        0.009676                 5.000000     0.0    1.857143  ...   \n",
       "4        0.014514                 0.000000     5.0    0.714286  ...   \n",
       "\n",
       "   JobRole_Human Resources  JobRole_Laboratory Technician  JobRole_Manager  \\\n",
       "0                      0.0                            0.0              0.0   \n",
       "1                      0.0                            0.0              0.0   \n",
       "2                      0.0                            5.0              0.0   \n",
       "3                      0.0                            0.0              0.0   \n",
       "4                      0.0                            5.0              0.0   \n",
       "\n",
       "   JobRole_Manufacturing Director  JobRole_Research Director  \\\n",
       "0                             0.0                        0.0   \n",
       "1                             0.0                        0.0   \n",
       "2                             0.0                        0.0   \n",
       "3                             0.0                        0.0   \n",
       "4                             0.0                        0.0   \n",
       "\n",
       "   JobRole_Research Scientist  JobRole_Sales Executive  \\\n",
       "0                         0.0                      5.0   \n",
       "1                         5.0                      0.0   \n",
       "2                         0.0                      0.0   \n",
       "3                         5.0                      0.0   \n",
       "4                         0.0                      0.0   \n",
       "\n",
       "   JobRole_Sales Representative  MaritalStatus_Married  MaritalStatus_Single  \n",
       "0                           0.0                    0.0                   5.0  \n",
       "1                           0.0                    5.0                   0.0  \n",
       "2                           0.0                    0.0                   5.0  \n",
       "3                           0.0                    5.0                   0.0  \n",
       "4                           0.0                    5.0                   0.0  \n",
       "\n",
       "[5 rows x 49 columns]"
      ]
     },
     "execution_count": 29,
     "metadata": {},
     "output_type": "execute_result"
    }
   ],
   "source": [
    "# import MinMaxScaler\n",
    "from sklearn.preprocessing import MinMaxScaler\n",
    "scaler = MinMaxScaler(feature_range=(0, 5))\n",
    "HR_col = list(df_data_0.columns)\n",
    "HR_col.remove('Attrition')\n",
    "for col in HR_col:\n",
    "    df_data_0[col] = df_data_0[col].astype(float)\n",
    "    df_data_0[[col]] = scaler.fit_transform(df_data_0[[col]])\n",
    "df_data_0['Attrition'] = pd.to_numeric(df_data_0['Attrition'], downcast='float')\n",
    "df_data_0.head()"
   ]
  },
  {
   "cell_type": "code",
   "execution_count": 30,
   "metadata": {},
   "outputs": [
    {
     "name": "stdout",
     "output_type": "stream",
     "text": [
      "Size of Full Encoded Dataset: (1470, 49)\n"
     ]
    }
   ],
   "source": [
    "print('Size of Full Encoded Dataset: {}'. format(df_data_0.shape))"
   ]
  },
  {
   "cell_type": "markdown",
   "metadata": {},
   "source": [
    "## Splitting data into training and testing sets\n",
    "Prior to implementating or applying any Machine Learning algorithms, we must decouple training and testing datasets from our master dataframe."
   ]
  },
  {
   "cell_type": "code",
   "execution_count": 31,
   "metadata": {},
   "outputs": [],
   "source": [
    "#Splitting data into training and testing sets\n",
    "target = df_data_0['Attrition'].copy()"
   ]
  },
  {
   "cell_type": "code",
   "execution_count": 32,
   "metadata": {},
   "outputs": [
    {
     "data": {
      "text/plain": [
       "pandas.core.series.Series"
      ]
     },
     "execution_count": 32,
     "metadata": {},
     "output_type": "execute_result"
    }
   ],
   "source": [
    "type(target)"
   ]
  },
  {
   "cell_type": "code",
   "execution_count": 33,
   "metadata": {},
   "outputs": [
    {
     "name": "stdout",
     "output_type": "stream",
     "text": [
      "Size of Full dataset is: (1470, 44)\n"
     ]
    }
   ],
   "source": [
    "# let's remove the target feature and redundant features from the dataset\n",
    "df_data_0.drop(['Attrition', 'EmployeeCount', 'EmployeeNumber',\n",
    "            'StandardHours', 'Over18'], axis=1, inplace=True)\n",
    "print('Size of Full dataset is: {}'.format(df_data_0.shape))"
   ]
  },
  {
   "cell_type": "code",
   "execution_count": 34,
   "metadata": {},
   "outputs": [
    {
     "name": "stdout",
     "output_type": "stream",
     "text": [
      "Number transactions X_train dataset:  (1102, 44)\n",
      "Number transactions y_train dataset:  (1102,)\n",
      "Number transactions X_test dataset:  (368, 44)\n",
      "Number transactions y_test dataset:  (368,)\n"
     ]
    }
   ],
   "source": [
    "# let's use stratify=y to maintain the same ratio as in the training dataset when splitting the dataset\n",
    "X_train, X_test, y_train, y_test = train_test_split(df_data_0,\n",
    "                                                    target,\n",
    "                                                    test_size=0.25,\n",
    "                                                    random_state=7,\n",
    "                                                    stratify=target)  \n",
    "print(\"Number transactions X_train dataset: \", X_train.shape)\n",
    "print(\"Number transactions y_train dataset: \", y_train.shape)\n",
    "print(\"Number transactions X_test dataset: \", X_test.shape)\n",
    "print(\"Number transactions y_test dataset: \", y_test.shape)"
   ]
  },
  {
   "cell_type": "markdown",
   "metadata": {},
   "source": [
    "## Building Machine Learning Models\n",
    "### Baseline Algorithms\n",
    "Let's first use a range of baseline algorithms (using out-of-the-box hyper-parameters) before we move on to more sophisticated solutions. The algorithms considered in this section are: Logistic Regression, Random Forest, SVM, KNN, Decision Tree Classifier, Gaussian NB."
   ]
  },
  {
   "cell_type": "code",
   "execution_count": 35,
   "metadata": {},
   "outputs": [],
   "source": [
    "# selection of algorithms to consider and set performance measure\n",
    "models = []\n",
    "models.append(('Logistic Regression', LogisticRegression(solver='liblinear', random_state=7,\n",
    "                                                         class_weight='balanced')))\n",
    "models.append(('Random Forest', RandomForestClassifier(\n",
    "    n_estimators=100, random_state=7)))\n",
    "models.append(('SVM', SVC(gamma='auto', random_state=7)))\n",
    "models.append(('KNN', KNeighborsClassifier()))\n",
    "models.append(('Decision Tree Classifier',\n",
    "               DecisionTreeClassifier(random_state=7)))\n",
    "models.append(('Gaussian NB', GaussianNB()))"
   ]
  },
  {
   "cell_type": "code",
   "execution_count": 36,
   "metadata": {},
   "outputs": [
    {
     "data": {
      "text/html": [
       "<div>\n",
       "<style scoped>\n",
       "    .dataframe tbody tr th:only-of-type {\n",
       "        vertical-align: middle;\n",
       "    }\n",
       "\n",
       "    .dataframe tbody tr th {\n",
       "        vertical-align: top;\n",
       "    }\n",
       "\n",
       "    .dataframe thead th {\n",
       "        text-align: right;\n",
       "    }\n",
       "</style>\n",
       "<table border=\"1\" class=\"dataframe\">\n",
       "  <thead>\n",
       "    <tr style=\"text-align: right;\">\n",
       "      <th></th>\n",
       "      <th>Algorithm</th>\n",
       "      <th>ROC AUC Mean</th>\n",
       "      <th>ROC AUC STD</th>\n",
       "      <th>Accuracy Mean</th>\n",
       "      <th>Accuracy STD</th>\n",
       "    </tr>\n",
       "  </thead>\n",
       "  <tbody>\n",
       "    <tr>\n",
       "      <th>0</th>\n",
       "      <td>Logistic Regression</td>\n",
       "      <td>82.03</td>\n",
       "      <td>8.06</td>\n",
       "      <td>74.49</td>\n",
       "      <td>5.53</td>\n",
       "    </tr>\n",
       "    <tr>\n",
       "      <th>2</th>\n",
       "      <td>SVM</td>\n",
       "      <td>78.88</td>\n",
       "      <td>8.21</td>\n",
       "      <td>84.48</td>\n",
       "      <td>4.18</td>\n",
       "    </tr>\n",
       "    <tr>\n",
       "      <th>1</th>\n",
       "      <td>Random Forest</td>\n",
       "      <td>78.86</td>\n",
       "      <td>7.01</td>\n",
       "      <td>85.30</td>\n",
       "      <td>3.75</td>\n",
       "    </tr>\n",
       "    <tr>\n",
       "      <th>5</th>\n",
       "      <td>Gaussian NB</td>\n",
       "      <td>75.06</td>\n",
       "      <td>5.10</td>\n",
       "      <td>68.14</td>\n",
       "      <td>3.14</td>\n",
       "    </tr>\n",
       "    <tr>\n",
       "      <th>3</th>\n",
       "      <td>KNN</td>\n",
       "      <td>66.42</td>\n",
       "      <td>9.90</td>\n",
       "      <td>84.21</td>\n",
       "      <td>4.04</td>\n",
       "    </tr>\n",
       "    <tr>\n",
       "      <th>4</th>\n",
       "      <td>Decision Tree Classifier</td>\n",
       "      <td>58.02</td>\n",
       "      <td>6.23</td>\n",
       "      <td>76.22</td>\n",
       "      <td>4.23</td>\n",
       "    </tr>\n",
       "  </tbody>\n",
       "</table>\n",
       "</div>"
      ],
      "text/plain": [
       "                  Algorithm  ROC AUC Mean  ROC AUC STD  Accuracy Mean  \\\n",
       "0       Logistic Regression         82.03         8.06          74.49   \n",
       "2                       SVM         78.88         8.21          84.48   \n",
       "1             Random Forest         78.86         7.01          85.30   \n",
       "5               Gaussian NB         75.06         5.10          68.14   \n",
       "3                       KNN         66.42         9.90          84.21   \n",
       "4  Decision Tree Classifier         58.02         6.23          76.22   \n",
       "\n",
       "   Accuracy STD  \n",
       "0          5.53  \n",
       "2          4.18  \n",
       "1          3.75  \n",
       "5          3.14  \n",
       "3          4.04  \n",
       "4          4.23  "
      ]
     },
     "execution_count": 36,
     "metadata": {},
     "output_type": "execute_result"
    }
   ],
   "source": [
    "acc_results = []\n",
    "auc_results = []\n",
    "names = []\n",
    "# set table to table to populate with performance results\n",
    "col = ['Algorithm', 'ROC AUC Mean', 'ROC AUC STD', \n",
    "       'Accuracy Mean', 'Accuracy STD']\n",
    "df_results = pd.DataFrame(columns=col)\n",
    "i = 0\n",
    "# evaluate each model using cross-validation\n",
    "for name, model in models:\n",
    "    kfold = model_selection.KFold(\n",
    "        n_splits=10, random_state=7)  # 10-fold cross-validation\n",
    "\n",
    "    cv_acc_results = model_selection.cross_val_score(  # accuracy scoring\n",
    "        model, X_train, y_train, cv=kfold, scoring='accuracy')\n",
    "\n",
    "    cv_auc_results = model_selection.cross_val_score(  # roc_auc scoring\n",
    "        model, X_train, y_train, cv=kfold, scoring='roc_auc')\n",
    "\n",
    "    acc_results.append(cv_acc_results)\n",
    "    auc_results.append(cv_auc_results)\n",
    "    names.append(name)\n",
    "    df_results.loc[i] = [name,\n",
    "                         round(cv_auc_results.mean()*100, 2),\n",
    "                         round(cv_auc_results.std()*100, 2),\n",
    "                         round(cv_acc_results.mean()*100, 2),\n",
    "                         round(cv_acc_results.std()*100, 2)\n",
    "                         ]\n",
    "    i += 1\n",
    "df_results.sort_values(by=['ROC AUC Mean'], ascending=False)"
   ]
  },
  {
   "cell_type": "markdown",
   "metadata": {},
   "source": [
    "Classification Accuracy is the number of correct predictions made as a ratio of all predictions made.\n",
    "It is the most common evaluation metric for classification problems. However, it is often misused as it is only really suitable when there are an equal number of observations in each class and all predictions and prediction errors are equally important. It is not the case in this project, so a different scoring metric may be more suitable."
   ]
  },
  {
   "cell_type": "code",
   "execution_count": 37,
   "metadata": {},
   "outputs": [
    {
     "data": {
      "image/png": "[encoded data removed]",
      "text/plain": [
       "<Figure size 1080x504 with 1 Axes>"
      ]
     },
     "metadata": {
      "needs_background": "light"
     },
     "output_type": "display_data"
    }
   ],
   "source": [
    "fig = plt.figure(figsize=(15, 7))\n",
    "fig.suptitle('Algorithm Accuracy Comparison')\n",
    "ax = fig.add_subplot(111)\n",
    "plt.boxplot(acc_results)\n",
    "ax.set_xticklabels(names)\n",
    "plt.show()"
   ]
  },
  {
   "cell_type": "markdown",
   "metadata": {},
   "source": [
    "Area under ROC Curve (or AUC for short) is a performance metric for binary classification problems.\n",
    "The AUC represents a model’s ability to discriminate between positive and negative classes. An area of 1.0 represents a model that made all predictions perfectly. An area of 0.5 represents a model as good as random."
   ]
  },
  {
   "cell_type": "code",
   "execution_count": 38,
   "metadata": {},
   "outputs": [
    {
     "data": {
      "image/png": "[encoded data removed]",
      "text/plain": [
       "<Figure size 1080x504 with 1 Axes>"
      ]
     },
     "metadata": {
      "needs_background": "light"
     },
     "output_type": "display_data"
    }
   ],
   "source": [
    "fig = plt.figure(figsize=(15, 7))\n",
    "fig.suptitle('Algorithm ROC AUC Comparison')\n",
    "ax = fig.add_subplot(111)\n",
    "plt.boxplot(auc_results)\n",
    "ax.set_xticklabels(names)\n",
    "plt.show()"
   ]
  },
  {
   "cell_type": "markdown",
   "metadata": {},
   "source": [
    "Based on our ROC AUC comparison analysis, Logistic Regression and Random Forest show the highest mean AUC scores. We will shortlist these two algorithms for further analysis. See below for more details on these two algos."
   ]
  },
  {
   "cell_type": "markdown",
   "metadata": {},
   "source": [
    "## Logistic Regression"
   ]
  },
  {
   "cell_type": "code",
   "execution_count": 39,
   "metadata": {},
   "outputs": [
    {
     "name": "stdout",
     "output_type": "stream",
     "text": [
      "AUC score (STD): 0.82 (0.08)\n"
     ]
    }
   ],
   "source": [
    "#Logistic Regression\n",
    "kfold = model_selection.KFold(n_splits=10, random_state=7)\n",
    "modelCV = LogisticRegression(solver='liblinear',\n",
    "                             class_weight=\"balanced\", \n",
    "                             random_state=7)\n",
    "scoring = 'roc_auc'\n",
    "results = model_selection.cross_val_score(\n",
    "    modelCV, X_train, y_train, cv=kfold, scoring=scoring)\n",
    "print(\"AUC score (STD): %.2f (%.2f)\" % (results.mean(), results.std()))"
   ]
  },
  {
   "cell_type": "markdown",
   "metadata": {},
   "source": [
    "### Fine Tuning\n",
    "GridSearchCV allows use to fine-tune hyper-parameters by searching over specified parameter values for an estimator."
   ]
  },
  {
   "cell_type": "code",
   "execution_count": 40,
   "metadata": {},
   "outputs": [
    {
     "name": "stdout",
     "output_type": "stream",
     "text": [
      "====================\n",
      "best params: LogisticRegression(C=0.05099999999999999, class_weight='balanced', dual=False,\n",
      "          fit_intercept=True, intercept_scaling=1, max_iter=100,\n",
      "          multi_class='warn', n_jobs=None, penalty='l2', random_state=7,\n",
      "          solver='liblinear', tol=0.0001, verbose=0, warm_start=False)\n",
      "best params: {'C': 0.05099999999999999}\n",
      "best score: 0.8180815631000706\n",
      "====================\n"
     ]
    }
   ],
   "source": [
    "#Fine Tuning\n",
    "param_grid = {'C': np.arange(1e-03, 2, 0.01)} # hyper-parameter list to fine-tune\n",
    "log_gs = GridSearchCV(LogisticRegression(solver='liblinear', # setting GridSearchCV\n",
    "                                         class_weight=\"balanced\", \n",
    "                                         random_state=7),\n",
    "                      iid=True,\n",
    "                      return_train_score=True,\n",
    "                      param_grid=param_grid,\n",
    "                      scoring='roc_auc',\n",
    "                      cv=10)\n",
    "\n",
    "log_grid = log_gs.fit(X_train, y_train)\n",
    "log_opt = log_grid.best_estimator_\n",
    "results = log_gs.cv_results_\n",
    "\n",
    "print('='*20)\n",
    "print(\"best params: \" + str(log_gs.best_estimator_))\n",
    "print(\"best params: \" + str(log_gs.best_params_))\n",
    "print('best score:', log_gs.best_score_)\n",
    "print('='*20)\n",
    "#As shown above, the results from GridSearchCV provided us with fine-tuned hyper-parameter using ROC_AUC as the scoring metric."
   ]
  },
  {
   "cell_type": "code",
   "execution_count": 41,
   "metadata": {},
   "outputs": [
    {
     "data": {
      "text/plain": [
       "Text(0.5, 257.44, 'Predicted label')"
      ]
     },
     "execution_count": 41,
     "metadata": {},
     "output_type": "execute_result"
    },
    {
     "data": {
      "image/png": "[encoded data removed]",
      "text/plain": [
       "<Figure size 432x288 with 2 Axes>"
      ]
     },
     "metadata": {
      "needs_background": "light"
     },
     "output_type": "display_data"
    }
   ],
   "source": [
    "#Evaluation\n",
    "## Confusion Matrix\n",
    "cnf_matrix = metrics.confusion_matrix(y_test, log_opt.predict(X_test))\n",
    "class_names=[0,1] # name  of classes\n",
    "fig, ax = plt.subplots()\n",
    "tick_marks = np.arange(len(class_names))\n",
    "plt.xticks(tick_marks, class_names)\n",
    "plt.yticks(tick_marks, class_names)\n",
    "# create heatmap\n",
    "sns.heatmap(pd.DataFrame(cnf_matrix), annot=True, cmap=\"YlGnBu\" ,fmt='g')\n",
    "ax.xaxis.set_label_position(\"top\")\n",
    "plt.tight_layout()\n",
    "plt.title('Confusion matrix', y=1.1)\n",
    "plt.ylabel('Actual label')\n",
    "plt.xlabel('Predicted label')"
   ]
  },
  {
   "cell_type": "code",
   "execution_count": 42,
   "metadata": {},
   "outputs": [
    {
     "name": "stdout",
     "output_type": "stream",
     "text": [
      "Accuracy of Logistic Regression Classifier on test set: 75.54\n"
     ]
    }
   ],
   "source": [
    "print('Accuracy of Logistic Regression Classifier on test set: {:.2f}'.format(log_opt.score(X_test, y_test)*100))"
   ]
  },
  {
   "cell_type": "markdown",
   "metadata": {},
   "source": [
    "The Confusion matrix is telling us that we have 231+47 correct predictions and 78+12 incorrect predictions. In other words, an accurac of 75.54%."
   ]
  },
  {
   "cell_type": "code",
   "execution_count": 43,
   "metadata": {},
   "outputs": [
    {
     "name": "stdout",
     "output_type": "stream",
     "text": [
      "              precision    recall  f1-score   support\n",
      "\n",
      "         0.0       0.95      0.75      0.84       309\n",
      "         1.0       0.38      0.80      0.51        59\n",
      "\n",
      "   micro avg       0.76      0.76      0.76       368\n",
      "   macro avg       0.66      0.77      0.67       368\n",
      "weighted avg       0.86      0.76      0.78       368\n",
      "\n"
     ]
    }
   ],
   "source": [
    "# Classification report for the optimised Log Regression\n",
    "log_opt.fit(X_train, y_train)\n",
    "print(classification_report(y_test, log_opt.predict(X_test)))"
   ]
  },
  {
   "cell_type": "markdown",
   "metadata": {},
   "source": [
    "Instead of getting binary estimated target features (0 or 1), a probability can be associated with the predicted target.\n",
    "The output provides a first index referring to the probability that the data belong to class 0 (employee not leaving), and the second refers to the probability that the data belong to class 1 (employee leaving).\n",
    "The resulting AUC score is: 0.857 which is higher than that best score during the optimisation step."
   ]
  },
  {
   "cell_type": "code",
   "execution_count": 44,
   "metadata": {},
   "outputs": [
    {
     "name": "stdout",
     "output_type": "stream",
     "text": [
      "AUC score: 0.857\n"
     ]
    }
   ],
   "source": [
    "log_opt.fit(X_train, y_train) # fit optimised model to the training data\n",
    "probs = log_opt.predict_proba(X_test) # predict probabilities\n",
    "probs = probs[:, 1] # we will only keep probabilities associated with the employee leaving\n",
    "logit_roc_auc = roc_auc_score(y_test, probs) # calculate AUC score using test dataset\n",
    "print('AUC score: %.3f' % logit_roc_auc)"
   ]
  },
  {
   "cell_type": "markdown",
   "metadata": {},
   "source": [
    "## Random Forest Classifier"
   ]
  },
  {
   "cell_type": "markdown",
   "metadata": {},
   "source": [
    "Fine-tuning the Random Forest algorithm's hyper-parameters by cross-validation against the AUC score."
   ]
  },
  {
   "cell_type": "code",
   "execution_count": 45,
   "metadata": {},
   "outputs": [
    {
     "name": "stdout",
     "output_type": "stream",
     "text": [
      "====================\n",
      "best params: RandomForestClassifier(bootstrap=True, class_weight='balanced',\n",
      "            criterion='gini', max_depth=15, max_features='auto',\n",
      "            max_leaf_nodes=None, min_impurity_decrease=0.0,\n",
      "            min_impurity_split=None, min_samples_leaf=1,\n",
      "            min_samples_split=8, min_weight_fraction_leaf=0.0,\n",
      "            n_estimators=75, n_jobs=None, oob_score=False, random_state=7,\n",
      "            verbose=0, warm_start=False)\n",
      "best params: {'max_depth': 15, 'min_samples_leaf': 1, 'min_samples_split': 8, 'n_estimators': 75}\n",
      "best score: 0.7956083711198764\n",
      "====================\n"
     ]
    }
   ],
   "source": [
    "#Fine Tuning\n",
    "rf_classifier = RandomForestClassifier(class_weight = \"balanced\",\n",
    "                                       random_state=7)\n",
    "param_grid = {'n_estimators': [50, 75, 100, 125, 150, 175],\n",
    "              'min_samples_split':[2,4,6,8,10],\n",
    "              'min_samples_leaf': [1, 2, 3, 4],\n",
    "              'max_depth': [5, 10, 15, 20, 25]}\n",
    "\n",
    "grid_obj = GridSearchCV(rf_classifier,\n",
    "                        iid=True,\n",
    "                        return_train_score=True,\n",
    "                        param_grid=param_grid,\n",
    "                        scoring='roc_auc',\n",
    "                        cv=10)\n",
    "\n",
    "grid_fit = grid_obj.fit(X_train, y_train)\n",
    "rf_opt = grid_fit.best_estimator_\n",
    "\n",
    "print('='*20)\n",
    "print(\"best params: \" + str(grid_obj.best_estimator_))\n",
    "print(\"best params: \" + str(grid_obj.best_params_))\n",
    "print('best score:', grid_obj.best_score_)\n",
    "print('='*20)"
   ]
  },
  {
   "cell_type": "code",
   "execution_count": 46,
   "metadata": {},
   "outputs": [
    {
     "data": {
      "image/png": "[encoded data removed]",
      "text/plain": [
       "<Figure size 1080x504 with 1 Axes>"
      ]
     },
     "metadata": {
      "needs_background": "light"
     },
     "output_type": "display_data"
    }
   ],
   "source": [
    "#Show plot\n",
    "importances = rf_opt.feature_importances_\n",
    "indices = np.argsort(importances)[::-1] # Sort feature importances in descending order\n",
    "names = [X_train.columns[i] for i in indices] # Rearrange feature names so they match the sorted feature importances\n",
    "plt.figure(figsize=(15, 7)) # Create plot\n",
    "plt.title(\"Feature Importance\") # Create plot title\n",
    "plt.bar(range(X_train.shape[1]), importances[indices]) # Add bars\n",
    "plt.xticks(range(X_train.shape[1]), names, rotation=90) # Add feature names as x-axis labels\n",
    "plt.show()"
   ]
  },
  {
   "cell_type": "markdown",
   "metadata": {},
   "source": [
    "Random Forest helped us identify the Top 10 most important indicators (ranked in the table below) as:\n",
    "MonthlyIncome, OverTime, Age, MonthlyRate, DistanceFromHome, DailyRate, TotalWorkingYears, YearsAtCompany, HourlyRate, YearsWithCurrManager."
   ]
  },
  {
   "cell_type": "code",
   "execution_count": 47,
   "metadata": {},
   "outputs": [
    {
     "data": {
      "text/html": [
       "<div>\n",
       "<style scoped>\n",
       "    .dataframe tbody tr th:only-of-type {\n",
       "        vertical-align: middle;\n",
       "    }\n",
       "\n",
       "    .dataframe tbody tr th {\n",
       "        vertical-align: top;\n",
       "    }\n",
       "\n",
       "    .dataframe thead th {\n",
       "        text-align: right;\n",
       "    }\n",
       "</style>\n",
       "<table border=\"1\" class=\"dataframe\">\n",
       "  <thead>\n",
       "    <tr style=\"text-align: right;\">\n",
       "      <th></th>\n",
       "      <th>Feature</th>\n",
       "      <th>Coefficient</th>\n",
       "    </tr>\n",
       "  </thead>\n",
       "  <tbody>\n",
       "    <tr>\n",
       "      <th>0</th>\n",
       "      <td>MonthlyIncome</td>\n",
       "      <td>0.088179</td>\n",
       "    </tr>\n",
       "    <tr>\n",
       "      <th>1</th>\n",
       "      <td>OverTime</td>\n",
       "      <td>0.071542</td>\n",
       "    </tr>\n",
       "    <tr>\n",
       "      <th>2</th>\n",
       "      <td>Age</td>\n",
       "      <td>0.060858</td>\n",
       "    </tr>\n",
       "    <tr>\n",
       "      <th>3</th>\n",
       "      <td>MonthlyRate</td>\n",
       "      <td>0.051225</td>\n",
       "    </tr>\n",
       "    <tr>\n",
       "      <th>4</th>\n",
       "      <td>DistanceFromHome</td>\n",
       "      <td>0.049128</td>\n",
       "    </tr>\n",
       "    <tr>\n",
       "      <th>5</th>\n",
       "      <td>DailyRate</td>\n",
       "      <td>0.047802</td>\n",
       "    </tr>\n",
       "    <tr>\n",
       "      <th>6</th>\n",
       "      <td>TotalWorkingYears</td>\n",
       "      <td>0.047392</td>\n",
       "    </tr>\n",
       "    <tr>\n",
       "      <th>7</th>\n",
       "      <td>YearsAtCompany</td>\n",
       "      <td>0.045513</td>\n",
       "    </tr>\n",
       "    <tr>\n",
       "      <th>8</th>\n",
       "      <td>HourlyRate</td>\n",
       "      <td>0.039374</td>\n",
       "    </tr>\n",
       "    <tr>\n",
       "      <th>9</th>\n",
       "      <td>YearsWithCurrManager</td>\n",
       "      <td>0.034526</td>\n",
       "    </tr>\n",
       "  </tbody>\n",
       "</table>\n",
       "</div>"
      ],
      "text/plain": [
       "                Feature  Coefficient\n",
       "0         MonthlyIncome     0.088179\n",
       "1              OverTime     0.071542\n",
       "2                   Age     0.060858\n",
       "3           MonthlyRate     0.051225\n",
       "4      DistanceFromHome     0.049128\n",
       "5             DailyRate     0.047802\n",
       "6     TotalWorkingYears     0.047392\n",
       "7        YearsAtCompany     0.045513\n",
       "8            HourlyRate     0.039374\n",
       "9  YearsWithCurrManager     0.034526"
      ]
     },
     "execution_count": 47,
     "metadata": {},
     "output_type": "execute_result"
    }
   ],
   "source": [
    "importances = rf_opt.feature_importances_\n",
    "df_param_coeff = pd.DataFrame(columns=['Feature', 'Coefficient'])\n",
    "for i in range(44):\n",
    "    feat = X_train.columns[i]\n",
    "    coeff = importances[i]\n",
    "    df_param_coeff.loc[i] = (feat, coeff)\n",
    "df_param_coeff.sort_values(by='Coefficient', ascending=False, inplace=True)\n",
    "df_param_coeff = df_param_coeff.reset_index(drop=True)\n",
    "df_param_coeff.head(10)"
   ]
  },
  {
   "cell_type": "code",
   "execution_count": 48,
   "metadata": {},
   "outputs": [
    {
     "data": {
      "text/plain": [
       "Text(0.5, 257.44, 'Predicted label')"
      ]
     },
     "execution_count": 48,
     "metadata": {},
     "output_type": "execute_result"
    },
    {
     "data": {
      "image/png": "[encoded data removed]",
      "text/plain": [
       "<Figure size 432x288 with 2 Axes>"
      ]
     },
     "metadata": {
      "needs_background": "light"
     },
     "output_type": "display_data"
    }
   ],
   "source": [
    "#Evaluation\n",
    "## Confusion Matrix\n",
    "cnf_matrix = metrics.confusion_matrix(y_test, rf_opt.predict(X_test))\n",
    "class_names=[0,1] # name  of classes\n",
    "fig, ax = plt.subplots()\n",
    "tick_marks = np.arange(len(class_names))\n",
    "plt.xticks(tick_marks, class_names)\n",
    "plt.yticks(tick_marks, class_names)\n",
    "# create heatmap\n",
    "sns.heatmap(pd.DataFrame(cnf_matrix), annot=True, cmap=\"YlGnBu\" ,fmt='g')\n",
    "ax.xaxis.set_label_position(\"top\")\n",
    "plt.tight_layout()\n",
    "plt.title('Confusion matrix', y=1.1)\n",
    "plt.ylabel('Actual label')\n",
    "plt.xlabel('Predicted label')"
   ]
  },
  {
   "cell_type": "markdown",
   "metadata": {},
   "source": [
    "The Confusion matrix is telling us that we have 303+14 correct predictions and 1+52 incorrect predictions. In other words, an accurac of 86.14%."
   ]
  },
  {
   "cell_type": "code",
   "execution_count": 49,
   "metadata": {},
   "outputs": [
    {
     "name": "stdout",
     "output_type": "stream",
     "text": [
      "              precision    recall  f1-score   support\n",
      "\n",
      "         0.0       0.87      0.98      0.92       309\n",
      "         1.0       0.70      0.24      0.35        59\n",
      "\n",
      "   micro avg       0.86      0.86      0.86       368\n",
      "   macro avg       0.79      0.61      0.64       368\n",
      "weighted avg       0.84      0.86      0.83       368\n",
      "\n"
     ]
    }
   ],
   "source": [
    "# Classification report for the optimised RF Regression\n",
    "rf_opt.fit(X_train, y_train)\n",
    "print(classification_report(y_test, rf_opt.predict(X_test)))"
   ]
  },
  {
   "cell_type": "code",
   "execution_count": 50,
   "metadata": {},
   "outputs": [
    {
     "name": "stdout",
     "output_type": "stream",
     "text": [
      "AUC score: 0.818\n"
     ]
    }
   ],
   "source": [
    "rf_opt.fit(X_train, y_train) # fit optimised model to the training data\n",
    "probs = rf_opt.predict_proba(X_test) # predict probabilities\n",
    "probs = probs[:, 1] # we will only keep probabilities associated with the employee leaving\n",
    "rf_opt_roc_auc = roc_auc_score(y_test, probs) # calculate AUC score using test dataset\n",
    "print('AUC score: %.3f' % rf_opt_roc_auc)"
   ]
  },
  {
   "cell_type": "markdown",
   "metadata": {},
   "source": [
    "## ROC Graphs\n",
    "AUC - ROC curve is a performance measurement for classification problem at various thresholds settings. ROC is a probability curve and AUC represents degree or measure of separability. It tells how much model is capable of distinguishing between classes.\n",
    "The green line represents the ROC curve of a purely random classifier; a good classifier stays as far away from that line as possible (toward the top-left corner). "
   ]
  },
  {
   "cell_type": "code",
   "execution_count": 51,
   "metadata": {},
   "outputs": [
    {
     "data": {
      "image/png": "[encoded data removed]",
      "text/plain": [
       "<Figure size 1008x432 with 1 Axes>"
      ]
     },
     "metadata": {
      "needs_background": "light"
     },
     "output_type": "display_data"
    }
   ],
   "source": [
    "# Create ROC Graph\n",
    "from sklearn.metrics import roc_curve\n",
    "fpr, tpr, thresholds = roc_curve(y_test, log_opt.predict_proba(X_test)[:,1])\n",
    "rf_fpr, rf_tpr, rf_thresholds = roc_curve(y_test, rf_opt.predict_proba(X_test)[:,1])\n",
    "plt.figure(figsize=(14, 6))\n",
    "\n",
    "# Plot Logistic Regression ROC\n",
    "plt.plot(fpr, tpr, label='Logistic Regression (area = %0.2f)' % logit_roc_auc)\n",
    "# Plot Random Forest ROC\n",
    "plt.plot(rf_fpr, rf_tpr, label='Random Forest (area = %0.2f)' % rf_opt_roc_auc)\n",
    "# Plot Base Rate ROC\n",
    "plt.plot([0,1], [0,1],label='Base Rate' 'k--')\n",
    "\n",
    "plt.xlim([0.0, 1.0])\n",
    "plt.ylim([0.0, 1.05])\n",
    "plt.xlabel('False Positive Rate')\n",
    "plt.ylabel('True Positive Rate')\n",
    "plt.title('ROC Graph')\n",
    "plt.legend(loc=\"lower right\")\n",
    "plt.show()"
   ]
  },
  {
   "cell_type": "markdown",
   "metadata": {},
   "source": [
    "As shown below, the fine-tuned Logistic Regression model showed a higher AUC score compared to the Random Forest Classifier. "
   ]
  },
  {
   "cell_type": "markdown",
   "metadata": {},
   "source": [
    "## Concluding Remarks\n",
    "\n",
    "### Risk Category\n",
    "\n",
    "As the company generates more data on its employees (on New Joiners and recent Leavers) the algorithm can be re-trained using the additional data and theoritically generate more accurate predictions to identify high-risk employees of leaving based on the probabilistic label assigned to each feature variable (i.e. employee) by the algorithm.\n",
    "\n",
    "Employees can be assigning a \"Risk Category\" based on the predicted label such that:\n",
    "\n",
    "    Low-risk for employees with label < 0.6\n",
    "    Medium-risk for employees with label between 0.6 and 0.8\n",
    "    High-risk for employees with label > 0.8 "
   ]
  },
  {
   "cell_type": "code",
   "execution_count": 52,
   "metadata": {},
   "outputs": [],
   "source": [
    "#ML PIPILINES\n",
    "from sklearn.pipeline import make_pipeline\n",
    "from sklearn.preprocessing import StandardScaler\n",
    "pipeline = make_pipeline(StandardScaler(),RandomForestClassifier(n_estimators=1000, max_depth=2, random_state=0) )"
   ]
  },
  {
   "cell_type": "code",
   "execution_count": 53,
   "metadata": {},
   "outputs": [],
   "source": [
    "model = pipeline.fit(X_train, y_train)"
   ]
  },
  {
   "cell_type": "code",
   "execution_count": 54,
   "metadata": {},
   "outputs": [],
   "source": [
    "predicted = model.predict(X_test)"
   ]
  },
  {
   "cell_type": "code",
   "execution_count": 55,
   "metadata": {},
   "outputs": [
    {
     "name": "stdout",
     "output_type": "stream",
     "text": [
      "[0. 0. 0. 0. 0. 0. 0. 0. 0. 0. 0. 0. 0. 0. 0. 0. 0. 0. 0. 0. 0. 0. 0. 0.\n",
      " 0. 0. 0. 0. 0. 0. 0. 0. 0. 0. 0. 0. 0. 0. 0. 0. 0. 0. 0. 0. 0. 0. 0. 0.\n",
      " 0. 0. 0. 0. 0. 0. 0. 0. 0. 0. 0. 0. 0. 0. 0. 0. 0. 0. 0. 0. 0. 0. 0. 0.\n",
      " 0. 0. 0. 0. 0. 0. 0. 0. 0. 0. 0. 0. 0. 0. 0. 0. 0. 0. 0. 0. 0. 0. 0. 0.\n",
      " 0. 0. 0. 0. 0. 0. 0. 0. 0. 0. 0. 0. 0. 0. 0. 0. 0. 0. 0. 0. 0. 0. 0. 0.\n",
      " 0. 0. 0. 0. 0. 0. 0. 0. 0. 0. 0. 0. 0. 0. 0. 0. 0. 0. 0. 0. 0. 0. 0. 0.\n",
      " 0. 0. 0. 0. 0. 0. 0. 0. 0. 0. 0. 0. 0. 0. 0. 0. 0. 0. 0. 0. 0. 0. 0. 0.\n",
      " 0. 0. 0. 0. 0. 0. 0. 0. 0. 0. 0. 0. 0. 0. 0. 0. 0. 0. 0. 0. 0. 0. 0. 0.\n",
      " 0. 0. 0. 0. 0. 0. 0. 0. 0. 0. 0. 0. 0. 0. 0. 0. 0. 0. 0. 0. 0. 0. 0. 0.\n",
      " 0. 0. 0. 0. 0. 0. 0. 0. 0. 0. 0. 0. 0. 0. 0. 0. 0. 0. 0. 0. 0. 0. 0. 0.\n",
      " 0. 0. 0. 0. 0. 0. 0. 0. 0. 0. 0. 0. 0. 0. 0. 0. 0. 0. 0. 0. 0. 0. 0. 0.\n",
      " 0. 0. 0. 0. 0. 0. 0. 0. 0. 0. 0. 0. 0. 0. 0. 0. 0. 0. 0. 0. 0. 0. 0. 0.\n",
      " 0. 0. 0. 0. 0. 0. 0. 0. 0. 0. 0. 0. 0. 0. 0. 0. 0. 0. 0. 0. 0. 0. 0. 0.\n",
      " 0. 0. 0. 0. 0. 0. 0. 0. 0. 0. 0. 0. 0. 0. 0. 0. 0. 0. 0. 0. 0. 0. 0. 0.\n",
      " 0. 0. 0. 0. 0. 0. 0. 0. 0. 0. 0. 0. 0. 0. 0. 0. 0. 0. 0. 0. 0. 0. 0. 0.\n",
      " 0. 0. 0. 0. 0. 0. 0. 0.]\n"
     ]
    }
   ],
   "source": [
    "print(predicted)"
   ]
  },
  {
   "cell_type": "code",
   "execution_count": 56,
   "metadata": {},
   "outputs": [
    {
     "name": "stderr",
     "output_type": "stream",
     "text": [
      "/opt/conda/envs/Python36/lib/python3.6/site-packages/sklearn/metrics/classification.py:1143: UndefinedMetricWarning: Precision and F-score are ill-defined and being set to 0.0 in labels with no predicted samples.\n",
      "  'precision', 'predicted', average, warn_for)\n",
      "/opt/conda/envs/Python36/lib/python3.6/site-packages/sklearn/metrics/classification.py:1143: UndefinedMetricWarning: Precision and F-score are ill-defined and being set to 0.0 in labels with no predicted samples.\n",
      "  'precision', 'predicted', average, warn_for)\n",
      "/opt/conda/envs/Python36/lib/python3.6/site-packages/sklearn/metrics/classification.py:1143: UndefinedMetricWarning: Precision and F-score are ill-defined and being set to 0.0 in labels with no predicted samples.\n",
      "  'precision', 'predicted', average, warn_for)\n"
     ]
    },
    {
     "data": {
      "text/plain": [
       "'              precision    recall  f1-score   support\\n\\n         0.0       0.84      1.00      0.91       309\\n         1.0       0.00      0.00      0.00        59\\n\\n   micro avg       0.84      0.84      0.84       368\\n   macro avg       0.42      0.50      0.46       368\\nweighted avg       0.71      0.84      0.77       368\\n'"
      ]
     },
     "execution_count": 56,
     "metadata": {},
     "output_type": "execute_result"
    }
   ],
   "source": [
    "metrics.classification_report(y_test, predicted)"
   ]
  },
  {
   "cell_type": "code",
   "execution_count": 57,
   "metadata": {},
   "outputs": [
    {
     "name": "stderr",
     "output_type": "stream",
     "text": [
      "2019-12-09 14:35:20,558 - watson_machine_learning_client.metanames - WARNING - 'AUTHOR_EMAIL' meta prop is deprecated. It will be ignored.\n"
     ]
    }
   ],
   "source": [
    "from watson_machine_learning_client import WatsonMachineLearningAPIClient"
   ]
  },
  {
   "cell_type": "code",
   "execution_count": 58,
   "metadata": {},
   "outputs": [],
   "source": [
    "wml_credentials={\n",
    "  \"apikey\": \"8F5mBIyTuyMhHGcpt_OaraSM87HXIHbQ_gmAUPbXYLi8\",\n",
    "  \"iam_apikey_description\": \"Auto-generated for key 31482908-dc18-49e1-82ac-d3d76d6e8070\",\n",
    "  \"iam_apikey_name\": \"wdp-writer\",\n",
    "  \"iam_role_crn\": \"crn:v1:bluemix:public:iam::::serviceRole:Writer\",\n",
    "  \"iam_serviceid_crn\": \"crn:v1:bluemix:public:iam-identity::a/bfece11d78674a43814800dd663fc3d1::serviceid:ServiceId-1f91e0b4-8a2c-4fb4-9e17-39fbda76b0ca\",\n",
    "  \"instance_id\": \"4bb32fec-39ab-4c30-ae10-fb0db837dd1e\",\n",
    "  \"url\": \"https://eu-gb.ml.cloud.ibm.com\"\n",
    "}"
   ]
  },
  {
   "cell_type": "code",
   "execution_count": 59,
   "metadata": {},
   "outputs": [],
   "source": [
    "client = WatsonMachineLearningAPIClient(wml_credentials)"
   ]
  },
  {
   "cell_type": "code",
   "execution_count": 60,
   "metadata": {},
   "outputs": [
    {
     "name": "stdout",
     "output_type": "stream",
     "text": [
      "{\n",
      "  \"metadata\": {\n",
      "    \"guid\": \"4bb32fec-39ab-4c30-ae10-fb0db837dd1e\",\n",
      "    \"url\": \"https://eu-gb.ml.cloud.ibm.com/v3/wml_instances/4bb32fec-39ab-4c30-ae10-fb0db837dd1e\",\n",
      "    \"created_at\": \"2019-12-09T12:22:32.512Z\",\n",
      "    \"modified_at\": \"2019-12-09T12:22:32.512Z\"\n",
      "  },\n",
      "  \"entity\": {\n",
      "    \"source\": \"Bluemix\",\n",
      "    \"published_models\": {\n",
      "      \"url\": \"https://eu-gb.ml.cloud.ibm.com/v3/wml_instances/4bb32fec-39ab-4c30-ae10-fb0db837dd1e/published_models\"\n",
      "    },\n",
      "    \"usage\": {\n",
      "      \"expiration_date\": \"2020-01-01T00:00:00.000Z\",\n",
      "      \"computation_time\": {\n",
      "        \"limit\": 180000,\n",
      "        \"current\": 0\n",
      "      },\n",
      "      \"gpu_count_k80\": {\n",
      "        \"limit\": 8,\n",
      "        \"current\": 0\n",
      "      },\n",
      "      \"model_count\": {\n",
      "        \"limit\": 200,\n",
      "        \"current\": 1\n",
      "      },\n",
      "      \"gpu_count_p100\": {\n",
      "        \"limit\": 0,\n",
      "        \"current\": 0\n",
      "      },\n",
      "      \"prediction_count\": {\n",
      "        \"limit\": 5000,\n",
      "        \"current\": 1\n",
      "      },\n",
      "      \"capacity_units\": {\n",
      "        \"limit\": 180000000,\n",
      "        \"current\": 0\n",
      "      },\n",
      "      \"deployment_count\": {\n",
      "        \"limit\": 5,\n",
      "        \"current\": 1\n",
      "      },\n",
      "      \"gpu_count_v100\": {\n",
      "        \"limit\": 0,\n",
      "        \"current\": 0\n",
      "      }\n",
      "    },\n",
      "    \"tags\": null,\n",
      "    \"plan_id\": \"3f6acf43-ede8-413a-ac69-f8af3bb0cbfe\",\n",
      "    \"status\": \"Active\",\n",
      "    \"organization_guid\": \"N/A\",\n",
      "    \"region\": \"eu-gb\",\n",
      "    \"account\": {\n",
      "      \"id\": \"bfece11d78674a43814800dd663fc3d1\",\n",
      "      \"name\": \"Vis Rach's Account\",\n",
      "      \"type\": \"STANDARD\"\n",
      "    },\n",
      "    \"owner\": {\n",
      "      \"ibm_id\": \"5500050TTJ\",\n",
      "      \"email\": \"visrach1@gmail.com\",\n",
      "      \"user_id\": \"97bbb014-1ab0-432a-b896-edbb87cb96eb\",\n",
      "      \"country_code\": \"IND\",\n",
      "      \"beta_user\": false\n",
      "    },\n",
      "    \"deployments\": {\n",
      "      \"url\": \"https://eu-gb.ml.cloud.ibm.com/v3/wml_instances/4bb32fec-39ab-4c30-ae10-fb0db837dd1e/deployments\"\n",
      "    },\n",
      "    \"space_guid\": \"N/A\",\n",
      "    \"plan\": \"lite\"\n",
      "  }\n",
      "}\n"
     ]
    }
   ],
   "source": [
    "import json\n",
    "instance_details = client.service_instance.get_details()\n",
    "print(json.dumps(instance_details, indent=2))"
   ]
  },
  {
   "cell_type": "code",
   "execution_count": 61,
   "metadata": {},
   "outputs": [],
   "source": [
    "model_props = {client.repository.ModelMetaNames.AUTHOR_NAME: \"Rachana Vishwanathula\", \n",
    "               client.repository.ModelMetaNames.AUTHOR_EMAIL: \"rachvis1@in.ibm.com\",\n",
    "               client.repository.ModelMetaNames.NAME: \"Churn Prediction\"}"
   ]
  },
  {
   "cell_type": "code",
   "execution_count": 62,
   "metadata": {},
   "outputs": [],
   "source": [
    "published_model = client.repository.store_model(model=model, meta_props=model_props, \\\n",
    "                                                training_data=X_train, training_target=y_train)"
   ]
  },
  {
   "cell_type": "code",
   "execution_count": 63,
   "metadata": {},
   "outputs": [
    {
     "name": "stdout",
     "output_type": "stream",
     "text": [
      "{\n",
      "  \"metadata\": {\n",
      "    \"guid\": \"69f04b94-8907-46c9-b076-56bde0eba0ce\",\n",
      "    \"url\": \"https://eu-gb.ml.cloud.ibm.com/v3/wml_instances/4bb32fec-39ab-4c30-ae10-fb0db837dd1e/published_models/69f04b94-8907-46c9-b076-56bde0eba0ce\",\n",
      "    \"created_at\": \"2019-12-09T14:35:21.557Z\",\n",
      "    \"modified_at\": \"2019-12-09T14:35:21.619Z\"\n",
      "  },\n",
      "  \"entity\": {\n",
      "    \"runtime_environment\": \"python-3.6\",\n",
      "    \"learning_configuration_url\": \"https://eu-gb.ml.cloud.ibm.com/v3/wml_instances/4bb32fec-39ab-4c30-ae10-fb0db837dd1e/published_models/69f04b94-8907-46c9-b076-56bde0eba0ce/learning_configuration\",\n",
      "    \"author\": {\n",
      "      \"name\": \"Rachana Vishwanathula\"\n",
      "    },\n",
      "    \"name\": \"Churn Prediction\",\n",
      "    \"label_col\": \"Attrition\",\n",
      "    \"learning_iterations_url\": \"https://eu-gb.ml.cloud.ibm.com/v3/wml_instances/4bb32fec-39ab-4c30-ae10-fb0db837dd1e/published_models/69f04b94-8907-46c9-b076-56bde0eba0ce/learning_iterations\",\n",
      "    \"training_data_schema\": {\n",
      "      \"features\": {\n",
      "        \"type\": \"DataFrame\",\n",
      "        \"fields\": [\n",
      "          {\n",
      "            \"name\": \"Age\",\n",
      "            \"type\": \"float64\"\n",
      "          },\n",
      "          {\n",
      "            \"name\": \"DailyRate\",\n",
      "            \"type\": \"float64\"\n",
      "          },\n",
      "          {\n",
      "            \"name\": \"DistanceFromHome\",\n",
      "            \"type\": \"float64\"\n",
      "          },\n",
      "          {\n",
      "            \"name\": \"Education\",\n",
      "            \"type\": \"float64\"\n",
      "          },\n",
      "          {\n",
      "            \"name\": \"EnvironmentSatisfaction\",\n",
      "            \"type\": \"float64\"\n",
      "          },\n",
      "          {\n",
      "            \"name\": \"Gender\",\n",
      "            \"type\": \"float64\"\n",
      "          },\n",
      "          {\n",
      "            \"name\": \"HourlyRate\",\n",
      "            \"type\": \"float64\"\n",
      "          },\n",
      "          {\n",
      "            \"name\": \"JobInvolvement\",\n",
      "            \"type\": \"float64\"\n",
      "          },\n",
      "          {\n",
      "            \"name\": \"JobLevel\",\n",
      "            \"type\": \"float64\"\n",
      "          },\n",
      "          {\n",
      "            \"name\": \"JobSatisfaction\",\n",
      "            \"type\": \"float64\"\n",
      "          },\n",
      "          {\n",
      "            \"name\": \"MonthlyIncome\",\n",
      "            \"type\": \"float64\"\n",
      "          },\n",
      "          {\n",
      "            \"name\": \"MonthlyRate\",\n",
      "            \"type\": \"float64\"\n",
      "          },\n",
      "          {\n",
      "            \"name\": \"NumCompaniesWorked\",\n",
      "            \"type\": \"float64\"\n",
      "          },\n",
      "          {\n",
      "            \"name\": \"OverTime\",\n",
      "            \"type\": \"float64\"\n",
      "          },\n",
      "          {\n",
      "            \"name\": \"PercentSalaryHike\",\n",
      "            \"type\": \"float64\"\n",
      "          },\n",
      "          {\n",
      "            \"name\": \"PerformanceRating\",\n",
      "            \"type\": \"float64\"\n",
      "          },\n",
      "          {\n",
      "            \"name\": \"RelationshipSatisfaction\",\n",
      "            \"type\": \"float64\"\n",
      "          },\n",
      "          {\n",
      "            \"name\": \"StockOptionLevel\",\n",
      "            \"type\": \"float64\"\n",
      "          },\n",
      "          {\n",
      "            \"name\": \"TotalWorkingYears\",\n",
      "            \"type\": \"float64\"\n",
      "          },\n",
      "          {\n",
      "            \"name\": \"TrainingTimesLastYear\",\n",
      "            \"type\": \"float64\"\n",
      "          },\n",
      "          {\n",
      "            \"name\": \"WorkLifeBalance\",\n",
      "            \"type\": \"float64\"\n",
      "          },\n",
      "          {\n",
      "            \"name\": \"YearsAtCompany\",\n",
      "            \"type\": \"float64\"\n",
      "          },\n",
      "          {\n",
      "            \"name\": \"YearsInCurrentRole\",\n",
      "            \"type\": \"float64\"\n",
      "          },\n",
      "          {\n",
      "            \"name\": \"YearsSinceLastPromotion\",\n",
      "            \"type\": \"float64\"\n",
      "          },\n",
      "          {\n",
      "            \"name\": \"YearsWithCurrManager\",\n",
      "            \"type\": \"float64\"\n",
      "          },\n",
      "          {\n",
      "            \"name\": \"BusinessTravel_Travel_Frequently\",\n",
      "            \"type\": \"float64\"\n",
      "          },\n",
      "          {\n",
      "            \"name\": \"BusinessTravel_Travel_Rarely\",\n",
      "            \"type\": \"float64\"\n",
      "          },\n",
      "          {\n",
      "            \"name\": \"Department_Research & Development\",\n",
      "            \"type\": \"float64\"\n",
      "          },\n",
      "          {\n",
      "            \"name\": \"Department_Sales\",\n",
      "            \"type\": \"float64\"\n",
      "          },\n",
      "          {\n",
      "            \"name\": \"EducationField_Life Sciences\",\n",
      "            \"type\": \"float64\"\n",
      "          },\n",
      "          {\n",
      "            \"name\": \"EducationField_Marketing\",\n",
      "            \"type\": \"float64\"\n",
      "          },\n",
      "          {\n",
      "            \"name\": \"EducationField_Medical\",\n",
      "            \"type\": \"float64\"\n",
      "          },\n",
      "          {\n",
      "            \"name\": \"EducationField_Other\",\n",
      "            \"type\": \"float64\"\n",
      "          },\n",
      "          {\n",
      "            \"name\": \"EducationField_Technical Degree\",\n",
      "            \"type\": \"float64\"\n",
      "          },\n",
      "          {\n",
      "            \"name\": \"JobRole_Human Resources\",\n",
      "            \"type\": \"float64\"\n",
      "          },\n",
      "          {\n",
      "            \"name\": \"JobRole_Laboratory Technician\",\n",
      "            \"type\": \"float64\"\n",
      "          },\n",
      "          {\n",
      "            \"name\": \"JobRole_Manager\",\n",
      "            \"type\": \"float64\"\n",
      "          },\n",
      "          {\n",
      "            \"name\": \"JobRole_Manufacturing Director\",\n",
      "            \"type\": \"float64\"\n",
      "          },\n",
      "          {\n",
      "            \"name\": \"JobRole_Research Director\",\n",
      "            \"type\": \"float64\"\n",
      "          },\n",
      "          {\n",
      "            \"name\": \"JobRole_Research Scientist\",\n",
      "            \"type\": \"float64\"\n",
      "          },\n",
      "          {\n",
      "            \"name\": \"JobRole_Sales Executive\",\n",
      "            \"type\": \"float64\"\n",
      "          },\n",
      "          {\n",
      "            \"name\": \"JobRole_Sales Representative\",\n",
      "            \"type\": \"float64\"\n",
      "          },\n",
      "          {\n",
      "            \"name\": \"MaritalStatus_Married\",\n",
      "            \"type\": \"float64\"\n",
      "          },\n",
      "          {\n",
      "            \"name\": \"MaritalStatus_Single\",\n",
      "            \"type\": \"float64\"\n",
      "          }\n",
      "        ]\n",
      "      },\n",
      "      \"labels\": {\n",
      "        \"type\": \"Series\",\n",
      "        \"fields\": [\n",
      "          {\n",
      "            \"name\": \"Attrition\",\n",
      "            \"type\": \"float32\"\n",
      "          }\n",
      "        ]\n",
      "      }\n",
      "    },\n",
      "    \"feedback_url\": \"https://eu-gb.ml.cloud.ibm.com/v3/wml_instances/4bb32fec-39ab-4c30-ae10-fb0db837dd1e/published_models/69f04b94-8907-46c9-b076-56bde0eba0ce/feedback\",\n",
      "    \"latest_version\": {\n",
      "      \"url\": \"https://eu-gb.ml.cloud.ibm.com/v3/ml_assets/models/69f04b94-8907-46c9-b076-56bde0eba0ce/versions/5c399417-bdf8-4240-ab9f-a76510d778cb\",\n",
      "      \"guid\": \"5c399417-bdf8-4240-ab9f-a76510d778cb\",\n",
      "      \"created_at\": \"2019-12-09T14:35:21.619Z\"\n",
      "    },\n",
      "    \"model_type\": \"scikit-learn-0.20\",\n",
      "    \"deployments\": {\n",
      "      \"count\": 0,\n",
      "      \"url\": \"https://eu-gb.ml.cloud.ibm.com/v3/wml_instances/4bb32fec-39ab-4c30-ae10-fb0db837dd1e/published_models/69f04b94-8907-46c9-b076-56bde0eba0ce/deployments\"\n",
      "    },\n",
      "    \"evaluation_metrics_url\": \"https://eu-gb.ml.cloud.ibm.com/v3/wml_instances/4bb32fec-39ab-4c30-ae10-fb0db837dd1e/published_models/69f04b94-8907-46c9-b076-56bde0eba0ce/evaluation_metrics\",\n",
      "    \"input_data_schema\": {\n",
      "      \"features\": {\n",
      "        \"type\": \"DataFrame\",\n",
      "        \"fields\": [\n",
      "          {\n",
      "            \"name\": \"Age\",\n",
      "            \"type\": \"float64\"\n",
      "          },\n",
      "          {\n",
      "            \"name\": \"DailyRate\",\n",
      "            \"type\": \"float64\"\n",
      "          },\n",
      "          {\n",
      "            \"name\": \"DistanceFromHome\",\n",
      "            \"type\": \"float64\"\n",
      "          },\n",
      "          {\n",
      "            \"name\": \"Education\",\n",
      "            \"type\": \"float64\"\n",
      "          },\n",
      "          {\n",
      "            \"name\": \"EnvironmentSatisfaction\",\n",
      "            \"type\": \"float64\"\n",
      "          },\n",
      "          {\n",
      "            \"name\": \"Gender\",\n",
      "            \"type\": \"float64\"\n",
      "          },\n",
      "          {\n",
      "            \"name\": \"HourlyRate\",\n",
      "            \"type\": \"float64\"\n",
      "          },\n",
      "          {\n",
      "            \"name\": \"JobInvolvement\",\n",
      "            \"type\": \"float64\"\n",
      "          },\n",
      "          {\n",
      "            \"name\": \"JobLevel\",\n",
      "            \"type\": \"float64\"\n",
      "          },\n",
      "          {\n",
      "            \"name\": \"JobSatisfaction\",\n",
      "            \"type\": \"float64\"\n",
      "          },\n",
      "          {\n",
      "            \"name\": \"MonthlyIncome\",\n",
      "            \"type\": \"float64\"\n",
      "          },\n",
      "          {\n",
      "            \"name\": \"MonthlyRate\",\n",
      "            \"type\": \"float64\"\n",
      "          },\n",
      "          {\n",
      "            \"name\": \"NumCompaniesWorked\",\n",
      "            \"type\": \"float64\"\n",
      "          },\n",
      "          {\n",
      "            \"name\": \"OverTime\",\n",
      "            \"type\": \"float64\"\n",
      "          },\n",
      "          {\n",
      "            \"name\": \"PercentSalaryHike\",\n",
      "            \"type\": \"float64\"\n",
      "          },\n",
      "          {\n",
      "            \"name\": \"PerformanceRating\",\n",
      "            \"type\": \"float64\"\n",
      "          },\n",
      "          {\n",
      "            \"name\": \"RelationshipSatisfaction\",\n",
      "            \"type\": \"float64\"\n",
      "          },\n",
      "          {\n",
      "            \"name\": \"StockOptionLevel\",\n",
      "            \"type\": \"float64\"\n",
      "          },\n",
      "          {\n",
      "            \"name\": \"TotalWorkingYears\",\n",
      "            \"type\": \"float64\"\n",
      "          },\n",
      "          {\n",
      "            \"name\": \"TrainingTimesLastYear\",\n",
      "            \"type\": \"float64\"\n",
      "          },\n",
      "          {\n",
      "            \"name\": \"WorkLifeBalance\",\n",
      "            \"type\": \"float64\"\n",
      "          },\n",
      "          {\n",
      "            \"name\": \"YearsAtCompany\",\n",
      "            \"type\": \"float64\"\n",
      "          },\n",
      "          {\n",
      "            \"name\": \"YearsInCurrentRole\",\n",
      "            \"type\": \"float64\"\n",
      "          },\n",
      "          {\n",
      "            \"name\": \"YearsSinceLastPromotion\",\n",
      "            \"type\": \"float64\"\n",
      "          },\n",
      "          {\n",
      "            \"name\": \"YearsWithCurrManager\",\n",
      "            \"type\": \"float64\"\n",
      "          },\n",
      "          {\n",
      "            \"name\": \"BusinessTravel_Travel_Frequently\",\n",
      "            \"type\": \"float64\"\n",
      "          },\n",
      "          {\n",
      "            \"name\": \"BusinessTravel_Travel_Rarely\",\n",
      "            \"type\": \"float64\"\n",
      "          },\n",
      "          {\n",
      "            \"name\": \"Department_Research & Development\",\n",
      "            \"type\": \"float64\"\n",
      "          },\n",
      "          {\n",
      "            \"name\": \"Department_Sales\",\n",
      "            \"type\": \"float64\"\n",
      "          },\n",
      "          {\n",
      "            \"name\": \"EducationField_Life Sciences\",\n",
      "            \"type\": \"float64\"\n",
      "          },\n",
      "          {\n",
      "            \"name\": \"EducationField_Marketing\",\n",
      "            \"type\": \"float64\"\n",
      "          },\n",
      "          {\n",
      "            \"name\": \"EducationField_Medical\",\n",
      "            \"type\": \"float64\"\n",
      "          },\n",
      "          {\n",
      "            \"name\": \"EducationField_Other\",\n",
      "            \"type\": \"float64\"\n",
      "          },\n",
      "          {\n",
      "            \"name\": \"EducationField_Technical Degree\",\n",
      "            \"type\": \"float64\"\n",
      "          },\n",
      "          {\n",
      "            \"name\": \"JobRole_Human Resources\",\n",
      "            \"type\": \"float64\"\n",
      "          },\n",
      "          {\n",
      "            \"name\": \"JobRole_Laboratory Technician\",\n",
      "            \"type\": \"float64\"\n",
      "          },\n",
      "          {\n",
      "            \"name\": \"JobRole_Manager\",\n",
      "            \"type\": \"float64\"\n",
      "          },\n",
      "          {\n",
      "            \"name\": \"JobRole_Manufacturing Director\",\n",
      "            \"type\": \"float64\"\n",
      "          },\n",
      "          {\n",
      "            \"name\": \"JobRole_Research Director\",\n",
      "            \"type\": \"float64\"\n",
      "          },\n",
      "          {\n",
      "            \"name\": \"JobRole_Research Scientist\",\n",
      "            \"type\": \"float64\"\n",
      "          },\n",
      "          {\n",
      "            \"name\": \"JobRole_Sales Executive\",\n",
      "            \"type\": \"float64\"\n",
      "          },\n",
      "          {\n",
      "            \"name\": \"JobRole_Sales Representative\",\n",
      "            \"type\": \"float64\"\n",
      "          },\n",
      "          {\n",
      "            \"name\": \"MaritalStatus_Married\",\n",
      "            \"type\": \"float64\"\n",
      "          },\n",
      "          {\n",
      "            \"name\": \"MaritalStatus_Single\",\n",
      "            \"type\": \"float64\"\n",
      "          }\n",
      "        ]\n",
      "      },\n",
      "      \"labels\": {\n",
      "        \"type\": \"Series\",\n",
      "        \"fields\": [\n",
      "          {\n",
      "            \"name\": \"Attrition\",\n",
      "            \"type\": \"float32\"\n",
      "          }\n",
      "        ]\n",
      "      }\n",
      "    }\n",
      "  }\n",
      "}\n"
     ]
    }
   ],
   "source": [
    "published_model_uid = client.repository.get_model_uid(published_model)\n",
    "model_details = client.repository.get_details(published_model_uid)\n",
    "\n",
    "print(json.dumps(model_details, indent=2))"
   ]
  },
  {
   "cell_type": "code",
   "execution_count": 64,
   "metadata": {},
   "outputs": [
    {
     "name": "stdout",
     "output_type": "stream",
     "text": [
      "------------------------------------  ----------------  ------------------------  -----------------\n",
      "GUID                                  NAME              CREATED                   FRAMEWORK\n",
      "69f04b94-8907-46c9-b076-56bde0eba0ce  Churn Prediction  2019-12-09T14:35:21.557Z  scikit-learn-0.20\n",
      "b02ee941-01a6-40e6-86ef-193ae4ab3ead  Churn Prediction  2019-12-09T12:32:23.632Z  scikit-learn-0.20\n",
      "------------------------------------  ----------------  ------------------------  -----------------\n"
     ]
    }
   ],
   "source": [
    "models_details = client.repository.list_models()"
   ]
  },
  {
   "cell_type": "code",
   "execution_count": 65,
   "metadata": {},
   "outputs": [
    {
     "name": "stdout",
     "output_type": "stream",
     "text": [
      "Pipeline(memory=None,\n",
      "     steps=[('standardscaler', StandardScaler(copy=True, with_mean=True, with_std=True)), ('randomforestclassifier', RandomForestClassifier(bootstrap=True, class_weight=None, criterion='gini',\n",
      "            max_depth=2, max_features='auto', max_leaf_nodes=None,\n",
      "            min_impurity_decrease=0.0, min_im...ators=1000, n_jobs=None,\n",
      "            oob_score=False, random_state=0, verbose=0, warm_start=False))])\n"
     ]
    }
   ],
   "source": [
    "loaded_model = client.repository.load(published_model_uid)\n",
    "print(loaded_model)"
   ]
  },
  {
   "cell_type": "code",
   "execution_count": 66,
   "metadata": {},
   "outputs": [],
   "source": [
    "test_predictions = loaded_model.predict(X_test[:10])"
   ]
  },
  {
   "cell_type": "code",
   "execution_count": 67,
   "metadata": {},
   "outputs": [
    {
     "name": "stdout",
     "output_type": "stream",
     "text": [
      "[0. 0. 0. 0. 0. 0. 0. 0. 0. 0.]\n"
     ]
    }
   ],
   "source": [
    "print(test_predictions)"
   ]
  },
  {
   "cell_type": "code",
   "execution_count": 68,
   "metadata": {},
   "outputs": [
    {
     "name": "stdout",
     "output_type": "stream",
     "text": [
      "\n",
      "\n",
      "#######################################################################################\n",
      "\n",
      "Synchronous deployment creation for uid: '69f04b94-8907-46c9-b076-56bde0eba0ce' started\n",
      "\n",
      "#######################################################################################\n",
      "\n",
      "\n",
      "INITIALIZING\n",
      "DEPLOY_SUCCESS\n",
      "\n",
      "\n",
      "------------------------------------------------------------------------------------------------\n",
      "Successfully finished deployment creation, deployment_uid='0ac8438b-e9ac-49e3-a73b-0e7a5fff83bd'\n",
      "------------------------------------------------------------------------------------------------\n",
      "\n",
      "\n"
     ]
    }
   ],
   "source": [
    "#Deploying as a webservice\n",
    "created_deployment = client.deployments.create(published_model_uid, \"Deployment of locally created scikit model\")"
   ]
  },
  {
   "cell_type": "code",
   "execution_count": 69,
   "metadata": {},
   "outputs": [
    {
     "name": "stdout",
     "output_type": "stream",
     "text": [
      "https://eu-gb.ml.cloud.ibm.com/v3/wml_instances/4bb32fec-39ab-4c30-ae10-fb0db837dd1e/deployments/0ac8438b-e9ac-49e3-a73b-0e7a5fff83bd/online\n"
     ]
    }
   ],
   "source": [
    "scoring_endpoint = client.deployments.get_scoring_url(created_deployment)\n",
    "\n",
    "print(scoring_endpoint)"
   ]
  },
  {
   "cell_type": "code",
   "execution_count": 70,
   "metadata": {},
   "outputs": [
    {
     "name": "stdout",
     "output_type": "stream",
     "text": [
      "{\n",
      "  \"resources\": [\n",
      "    {\n",
      "      \"metadata\": {\n",
      "        \"guid\": \"0ac8438b-e9ac-49e3-a73b-0e7a5fff83bd\",\n",
      "        \"url\": \"https://eu-gb.ml.cloud.ibm.com/v3/wml_instances/4bb32fec-39ab-4c30-ae10-fb0db837dd1e/deployments/0ac8438b-e9ac-49e3-a73b-0e7a5fff83bd\",\n",
      "        \"created_at\": \"2019-12-09T14:35:27.152Z\",\n",
      "        \"modified_at\": \"2019-12-09T14:35:27.430Z\"\n",
      "      },\n",
      "      \"entity\": {\n",
      "        \"runtime_environment\": \"python-3.6\",\n",
      "        \"name\": \"Deployment of locally created scikit model\",\n",
      "        \"scoring_url\": \"https://eu-gb.ml.cloud.ibm.com/v3/wml_instances/4bb32fec-39ab-4c30-ae10-fb0db837dd1e/deployments/0ac8438b-e9ac-49e3-a73b-0e7a5fff83bd/online\",\n",
      "        \"deployable_asset\": {\n",
      "          \"name\": \"Churn Prediction\",\n",
      "          \"url\": \"https://eu-gb.ml.cloud.ibm.com/v3/wml_instances/4bb32fec-39ab-4c30-ae10-fb0db837dd1e/published_models/69f04b94-8907-46c9-b076-56bde0eba0ce\",\n",
      "          \"guid\": \"69f04b94-8907-46c9-b076-56bde0eba0ce\",\n",
      "          \"created_at\": \"2019-12-09T14:35:27.126Z\",\n",
      "          \"type\": \"model\"\n",
      "        },\n",
      "        \"description\": \"Description of deployment\",\n",
      "        \"published_model\": {\n",
      "          \"author\": {\n",
      "            \"name\": \"Rachana Vishwanathula\"\n",
      "          },\n",
      "          \"name\": \"Churn Prediction\",\n",
      "          \"url\": \"https://eu-gb.ml.cloud.ibm.com/v3/wml_instances/4bb32fec-39ab-4c30-ae10-fb0db837dd1e/published_models/69f04b94-8907-46c9-b076-56bde0eba0ce\",\n",
      "          \"guid\": \"69f04b94-8907-46c9-b076-56bde0eba0ce\",\n",
      "          \"created_at\": \"2019-12-09T14:35:27.126Z\"\n",
      "        },\n",
      "        \"status_details\": {\n",
      "          \"status\": \"DEPLOY_SUCCESS\"\n",
      "        },\n",
      "        \"model_type\": \"scikit-learn-0.20\",\n",
      "        \"status\": \"DEPLOY_SUCCESS\",\n",
      "        \"type\": \"online\",\n",
      "        \"deployed_version\": {\n",
      "          \"url\": \"https://eu-gb.ml.cloud.ibm.com/v3/ml_assets/models/69f04b94-8907-46c9-b076-56bde0eba0ce/versions/5c399417-bdf8-4240-ab9f-a76510d778cb\",\n",
      "          \"guid\": \"5c399417-bdf8-4240-ab9f-a76510d778cb\"\n",
      "        }\n",
      "      }\n",
      "    },\n",
      "    {\n",
      "      \"metadata\": {\n",
      "        \"guid\": \"bcf9ad4c-d7bc-49e8-8729-3e394deb7afe\",\n",
      "        \"url\": \"https://eu-gb.ml.cloud.ibm.com/v3/wml_instances/4bb32fec-39ab-4c30-ae10-fb0db837dd1e/deployments/bcf9ad4c-d7bc-49e8-8729-3e394deb7afe\",\n",
      "        \"created_at\": \"2019-12-09T12:33:51.300Z\",\n",
      "        \"modified_at\": \"2019-12-09T12:33:51.608Z\"\n",
      "      },\n",
      "      \"entity\": {\n",
      "        \"runtime_environment\": \"python-3.6\",\n",
      "        \"name\": \"Deployment of locally created scikit model\",\n",
      "        \"scoring_url\": \"https://eu-gb.ml.cloud.ibm.com/v3/wml_instances/4bb32fec-39ab-4c30-ae10-fb0db837dd1e/deployments/bcf9ad4c-d7bc-49e8-8729-3e394deb7afe/online\",\n",
      "        \"deployable_asset\": {\n",
      "          \"name\": \"Churn Prediction\",\n",
      "          \"url\": \"https://eu-gb.ml.cloud.ibm.com/v3/wml_instances/4bb32fec-39ab-4c30-ae10-fb0db837dd1e/published_models/b02ee941-01a6-40e6-86ef-193ae4ab3ead\",\n",
      "          \"guid\": \"b02ee941-01a6-40e6-86ef-193ae4ab3ead\",\n",
      "          \"created_at\": \"2019-12-09T12:33:51.280Z\",\n",
      "          \"type\": \"model\"\n",
      "        },\n",
      "        \"description\": \"Description of deployment\",\n",
      "        \"published_model\": {\n",
      "          \"author\": {\n",
      "            \"name\": \"Rachana Vishwanathula\"\n",
      "          },\n",
      "          \"name\": \"Churn Prediction\",\n",
      "          \"url\": \"https://eu-gb.ml.cloud.ibm.com/v3/wml_instances/4bb32fec-39ab-4c30-ae10-fb0db837dd1e/published_models/b02ee941-01a6-40e6-86ef-193ae4ab3ead\",\n",
      "          \"guid\": \"b02ee941-01a6-40e6-86ef-193ae4ab3ead\",\n",
      "          \"created_at\": \"2019-12-09T12:33:51.280Z\"\n",
      "        },\n",
      "        \"status_details\": {\n",
      "          \"status\": \"DEPLOY_SUCCESS\"\n",
      "        },\n",
      "        \"model_type\": \"scikit-learn-0.20\",\n",
      "        \"status\": \"DEPLOY_SUCCESS\",\n",
      "        \"type\": \"online\",\n",
      "        \"deployed_version\": {\n",
      "          \"url\": \"https://eu-gb.ml.cloud.ibm.com/v3/ml_assets/models/b02ee941-01a6-40e6-86ef-193ae4ab3ead/versions/85709d64-8c8c-43f2-b82c-325669adcad8\",\n",
      "          \"guid\": \"85709d64-8c8c-43f2-b82c-325669adcad8\"\n",
      "        }\n",
      "      }\n",
      "    }\n",
      "  ]\n",
      "}\n"
     ]
    }
   ],
   "source": [
    "deployments = client.deployments.get_details()\n",
    "\n",
    "print(json.dumps(deployments, indent=2))"
   ]
  },
  {
   "cell_type": "code",
   "execution_count": 71,
   "metadata": {},
   "outputs": [
    {
     "name": "stdout",
     "output_type": "stream",
     "text": [
      "https://eu-gb.ml.cloud.ibm.com/v3/wml_instances/4bb32fec-39ab-4c30-ae10-fb0db837dd1e/deployments/0ac8438b-e9ac-49e3-a73b-0e7a5fff83bd\n"
     ]
    }
   ],
   "source": [
    "deployment_url = client.deployments.get_url(created_deployment)\n",
    "\n",
    "print(deployment_url)"
   ]
  },
  {
   "cell_type": "code",
   "execution_count": 72,
   "metadata": {},
   "outputs": [],
   "source": [
    "scoring_payload = {\"values\": [list(X_test.iloc[1,:])]}"
   ]
  },
  {
   "cell_type": "code",
   "execution_count": 73,
   "metadata": {},
   "outputs": [],
   "source": [
    "predictions = client.deployments.score(scoring_endpoint, scoring_payload)"
   ]
  },
  {
   "cell_type": "code",
   "execution_count": 74,
   "metadata": {},
   "outputs": [
    {
     "name": "stdout",
     "output_type": "stream",
     "text": [
      "{\n",
      "  \"fields\": [\n",
      "    \"prediction\",\n",
      "    \"probability\"\n",
      "  ],\n",
      "  \"values\": [\n",
      "    [\n",
      "      0.0,\n",
      "      [\n",
      "        0.7964087502056626,\n",
      "        0.20359124979433738\n",
      "      ]\n",
      "    ]\n",
      "  ]\n",
      "}\n"
     ]
    }
   ],
   "source": [
    "print(json.dumps(predictions, indent=2))"
   ]
  },
  {
   "cell_type": "code",
   "execution_count": null,
   "metadata": {},
   "outputs": [],
   "source": []
  }
 ],
 "metadata": {
  "kernelspec": {
   "display_name": "Python 3.6",
   "language": "python",
   "name": "python3"
  },
  "language_info": {
   "codemirror_mode": {
    "name": "ipython",
    "version": 3
   },
   "file_extension": ".py",
   "mimetype": "text/x-python",
   "name": "python",
   "nbconvert_exporter": "python",
   "pygments_lexer": "ipython3",
   "version": "3.6.8"
  }
 },
 "nbformat": 4,
 "nbformat_minor": 1
}
